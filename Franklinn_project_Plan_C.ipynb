{
  "nbformat": 4,
  "nbformat_minor": 0,
  "metadata": {
    "colab": {
      "provenance": [],
      "authorship_tag": "ABX9TyP+WcULmNyDDMuQR44z33HQ",
      "include_colab_link": true
    },
    "kernelspec": {
      "name": "python3",
      "display_name": "Python 3"
    },
    "language_info": {
      "name": "python"
    }
  },
  "cells": [
    {
      "cell_type": "markdown",
      "metadata": {
        "id": "view-in-github",
        "colab_type": "text"
      },
      "source": [
        "<a href=\"https://colab.research.google.com/github/awaiskhan005/DEEP-LEARNING-AND-FORECASTING/blob/main/Franklinn_project_Plan_C.ipynb\" target=\"_parent\"><img src=\"https://colab.research.google.com/assets/colab-badge.svg\" alt=\"Open In Colab\"/></a>"
      ]
    },
    {
      "cell_type": "code",
      "source": [
        "# Warning control\n",
        "import warnings\n",
        "warnings.filterwarnings('ignore')"
      ],
      "metadata": {
        "id": "TgvEhlBhCStb"
      },
      "execution_count": 5,
      "outputs": []
    },
    {
      "cell_type": "code",
      "source": [
        "# Import Required Libraries\n",
        "import os\n",
        "import joblib\n",
        "import pandas as pd\n",
        "import numpy as np\n",
        "from xgboost import XGBClassifier\n",
        "from sklearn.model_selection import train_test_split\n",
        "from sklearn.metrics import classification_report\n",
        "\n",
        "# Install the 'ta' library if it's not already installed\n",
        "!pip install ta\n",
        "\n",
        "# Install the 'python-binance' library if it's not already installed\n",
        "!pip install python-binance # This line is added to install the missing library\n",
        "\n",
        "# Now import from 'ta'\n",
        "from ta.momentum import RSIIndicator\n",
        "from ta.trend import MACD\n",
        "from ta.volatility import BollingerBands\n",
        "from ta.trend import EMAIndicator\n",
        "from binance.client import Client # This import should now work\n",
        "from datetime import datetime, timedelta, timezone\n",
        "import time"
      ],
      "metadata": {
        "colab": {
          "base_uri": "https://localhost:8080/"
        },
        "id": "2uzutOXYCW7H",
        "outputId": "f0bfcd68-6247-4a5c-a631-c67cf836ce3a"
      },
      "execution_count": 6,
      "outputs": [
        {
          "output_type": "stream",
          "name": "stdout",
          "text": [
            "Requirement already satisfied: ta in /usr/local/lib/python3.11/dist-packages (0.11.0)\n",
            "Requirement already satisfied: numpy in /usr/local/lib/python3.11/dist-packages (from ta) (1.26.4)\n",
            "Requirement already satisfied: pandas in /usr/local/lib/python3.11/dist-packages (from ta) (2.2.2)\n",
            "Requirement already satisfied: python-dateutil>=2.8.2 in /usr/local/lib/python3.11/dist-packages (from pandas->ta) (2.8.2)\n",
            "Requirement already satisfied: pytz>=2020.1 in /usr/local/lib/python3.11/dist-packages (from pandas->ta) (2024.2)\n",
            "Requirement already satisfied: tzdata>=2022.7 in /usr/local/lib/python3.11/dist-packages (from pandas->ta) (2025.1)\n",
            "Requirement already satisfied: six>=1.5 in /usr/local/lib/python3.11/dist-packages (from python-dateutil>=2.8.2->pandas->ta) (1.17.0)\n",
            "Requirement already satisfied: python-binance in /usr/local/lib/python3.11/dist-packages (1.0.27)\n",
            "Requirement already satisfied: requests in /usr/local/lib/python3.11/dist-packages (from python-binance) (2.32.3)\n",
            "Requirement already satisfied: six in /usr/local/lib/python3.11/dist-packages (from python-binance) (1.17.0)\n",
            "Requirement already satisfied: dateparser in /usr/local/lib/python3.11/dist-packages (from python-binance) (1.2.0)\n",
            "Requirement already satisfied: aiohttp in /usr/local/lib/python3.11/dist-packages (from python-binance) (3.11.11)\n",
            "Requirement already satisfied: websockets in /usr/local/lib/python3.11/dist-packages (from python-binance) (14.2)\n",
            "Requirement already satisfied: pycryptodome in /usr/local/lib/python3.11/dist-packages (from python-binance) (3.21.0)\n",
            "Requirement already satisfied: aiohappyeyeballs>=2.3.0 in /usr/local/lib/python3.11/dist-packages (from aiohttp->python-binance) (2.4.4)\n",
            "Requirement already satisfied: aiosignal>=1.1.2 in /usr/local/lib/python3.11/dist-packages (from aiohttp->python-binance) (1.3.2)\n",
            "Requirement already satisfied: attrs>=17.3.0 in /usr/local/lib/python3.11/dist-packages (from aiohttp->python-binance) (25.1.0)\n",
            "Requirement already satisfied: frozenlist>=1.1.1 in /usr/local/lib/python3.11/dist-packages (from aiohttp->python-binance) (1.5.0)\n",
            "Requirement already satisfied: multidict<7.0,>=4.5 in /usr/local/lib/python3.11/dist-packages (from aiohttp->python-binance) (6.1.0)\n",
            "Requirement already satisfied: propcache>=0.2.0 in /usr/local/lib/python3.11/dist-packages (from aiohttp->python-binance) (0.2.1)\n",
            "Requirement already satisfied: yarl<2.0,>=1.17.0 in /usr/local/lib/python3.11/dist-packages (from aiohttp->python-binance) (1.18.3)\n",
            "Requirement already satisfied: python-dateutil in /usr/local/lib/python3.11/dist-packages (from dateparser->python-binance) (2.8.2)\n",
            "Requirement already satisfied: pytz in /usr/local/lib/python3.11/dist-packages (from dateparser->python-binance) (2024.2)\n",
            "Requirement already satisfied: regex!=2019.02.19,!=2021.8.27 in /usr/local/lib/python3.11/dist-packages (from dateparser->python-binance) (2024.11.6)\n",
            "Requirement already satisfied: tzlocal in /usr/local/lib/python3.11/dist-packages (from dateparser->python-binance) (5.2)\n",
            "Requirement already satisfied: charset-normalizer<4,>=2 in /usr/local/lib/python3.11/dist-packages (from requests->python-binance) (3.4.1)\n",
            "Requirement already satisfied: idna<4,>=2.5 in /usr/local/lib/python3.11/dist-packages (from requests->python-binance) (3.10)\n",
            "Requirement already satisfied: urllib3<3,>=1.21.1 in /usr/local/lib/python3.11/dist-packages (from requests->python-binance) (2.3.0)\n",
            "Requirement already satisfied: certifi>=2017.4.17 in /usr/local/lib/python3.11/dist-packages (from requests->python-binance) (2024.12.14)\n"
          ]
        }
      ]
    },
    {
      "cell_type": "code",
      "source": [
        "import os\n",
        "import joblib\n",
        "import pandas as pd\n",
        "import numpy as np\n",
        "from xgboost import XGBClassifier\n",
        "from sklearn.model_selection import train_test_split\n",
        "from sklearn.metrics import classification_report\n",
        "from ta.momentum import RSIIndicator\n",
        "from ta.trend import MACD\n",
        "from ta.volatility import BollingerBands\n",
        "from ta.trend import EMAIndicator\n",
        "from binance.client import Client\n",
        "from datetime import datetime, timedelta, timezone\n",
        "import time\n",
        "# Import Required Libraries\n",
        "import os\n",
        "import joblib\n",
        "import pandas as pd\n",
        "import numpy as np\n",
        "from xgboost import XGBClassifier\n",
        "from sklearn.model_selection import train_test_split\n",
        "from sklearn.metrics import classification_report\n",
        "from ta.momentum import RSIIndicator\n",
        "from ta.trend import MACD\n",
        "from ta.volatility import BollingerBands\n",
        "from ta.trend import EMAIndicator\n",
        "from binance.client import Client\n",
        "from datetime import datetime, timedelta, timezone\n",
        "import time"
      ],
      "metadata": {
        "id": "GKaQKeqSCf_B"
      },
      "execution_count": 7,
      "outputs": []
    },
    {
      "cell_type": "code",
      "source": [
        "import pandas as pd\n",
        "import numpy as np\n",
        "import joblib\n",
        "import xgboost as xgb\n",
        "from sklearn.model_selection import train_test_split\n",
        "from sklearn.metrics import accuracy_score\n",
        "import yfinance as yf\n",
        "\n",
        "def fetch_crypto_data(symbol, interval, lookback):\n",
        "    \"\"\"Fetch historical crypto data from Yahoo Finance\"\"\"\n",
        "    df = yf.download(symbol, period=\"60d\", interval=interval)  # Adjusted period to a valid format\n",
        "    df.reset_index(inplace=True)\n",
        "    df = df.rename(columns={'Datetime': 'timestamp', 'Open': 'open', 'High': 'high', 'Low': 'low', 'Close': 'close', 'Volume': 'volume'})\n",
        "    df.set_index(\"timestamp\", inplace=True)\n",
        "    return df\n",
        "\n",
        "def add_technical_indicators(df):\n",
        "    \"\"\"Add technical indicators to dataset\"\"\"\n",
        "    df['SMA_20'] = df['close'].rolling(window=20).mean()\n",
        "    df['EMA_20'] = df['close'].ewm(span=20, adjust=False).mean()\n",
        "    df['RSI'] = compute_rsi(df['close'])\n",
        "    df['ATR'] = compute_atr(df)\n",
        "    df.dropna(inplace=True)\n",
        "    return df\n",
        "\n",
        "def compute_rsi(series, period=14):\n",
        "    \"\"\"Compute Relative Strength Index\"\"\"\n",
        "    delta = series.diff(1)\n",
        "    gain = (delta.where(delta > 0, 0)).rolling(window=period).mean()\n",
        "    loss = (-delta.where(delta < 0, 0)).rolling(window=period).mean()\n",
        "    rs = gain / loss\n",
        "    return 100 - (100 / (1 + rs))\n",
        "\n",
        "def compute_atr(df, period=14):\n",
        "    \"\"\"Compute Average True Range\"\"\"\n",
        "    df['H-L'] = df['high'] - df['low']\n",
        "    df['H-C'] = abs(df['high'] - df['close'].shift(1))\n",
        "    df['L-C'] = abs(df['low'] - df['close'].shift(1))\n",
        "    df['TR'] = df[['H-L', 'H-C', 'L-C']].max(axis=1)\n",
        "    return df['TR'].rolling(window=period).mean()\n",
        "\n",
        "def train_model(symbol):\n",
        "    \"\"\"Train an XGBoost model for the given crypto symbol\"\"\"\n",
        "    df = fetch_crypto_data(symbol, \"1h\", 500)\n",
        "    df = add_technical_indicators(df)\n",
        "\n",
        "    df['future_return'] = df['close'].shift(-80) / df['close'] - 1\n",
        "    df['label'] = (df['future_return'] > 0).astype(int)\n",
        "    df.dropna(inplace=True)\n",
        "\n",
        "    X = df.drop(['future_return', 'label', 'close'], axis=1)  # Ensure 'close' column is not in training data\n",
        "    y = df['label']\n",
        "    X_train, X_test, y_train, y_test = train_test_split(X, y, test_size=0.2, random_state=42)\n",
        "\n",
        "    model = xgb.XGBClassifier(n_estimators=100, learning_rate=0.05, max_depth=5)\n",
        "    model.fit(X_train, y_train)\n",
        "    joblib.dump(model, f\"{symbol}_xgboost_model.pkl\")\n",
        "\n",
        "    y_pred = model.predict(X_test)\n",
        "    accuracy = accuracy_score(y_test, y_pred)\n",
        "    print(f\"{symbol} Model Accuracy: {accuracy:.2f}\")\n",
        "\n",
        "def predict(symbol, model_path):\n",
        "    \"\"\"Load trained model and predict probability\"\"\"\n",
        "    model = joblib.load(model_path)\n",
        "    df = fetch_crypto_data(symbol, \"1h\", 100)\n",
        "    df = add_technical_indicators(df)\n",
        "    X = df.iloc[-1:].drop(columns=['close'], errors='ignore')  # Ensure 'close' exists before dropping\n",
        "    prob = model.predict_proba(X)[0][1] * 100\n",
        "    print(f\"Probability of Increase for {symbol}: {prob:.2f}%\")\n",
        "    return prob\n",
        "\n",
        "def execute_trades():\n",
        "    \"\"\"Execute trades based on model predictions\"\"\"\n",
        "    symbols = [\"BTC-USD\", \"ETH-USD\", \"BNB-USD\"]\n",
        "    for symbol in symbols:\n",
        "        prob = predict(symbol, f\"{symbol}_xgboost_model.pkl\")\n",
        "        if prob > 60:\n",
        "            print(f\"BUY SIGNAL: Executing trade for {symbol}\")\n",
        "            # Placeholder for trade execution logic\n",
        "\n",
        "def main():\n",
        "    symbols = [\"BTC-USD\", \"ETH-USD\", \"BNB-USD\"]\n",
        "    for symbol in symbols:\n",
        "        train_model(symbol)\n",
        "    execute_trades()\n",
        "\n",
        "if __name__ == \"__main__\":\n",
        "    main()"
      ],
      "metadata": {
        "colab": {
          "base_uri": "https://localhost:8080/"
        },
        "id": "WsOqC80oULjF",
        "outputId": "cc05d5d9-5f08-4ae6-b6d1-c1b2e629208f"
      },
      "execution_count": 12,
      "outputs": [
        {
          "output_type": "stream",
          "name": "stderr",
          "text": [
            "[*********************100%***********************]  1 of 1 completed\n",
            "[*********************100%***********************]  1 of 1 completed"
          ]
        },
        {
          "output_type": "stream",
          "name": "stdout",
          "text": [
            "BTC-USD Model Accuracy: 0.82\n"
          ]
        },
        {
          "output_type": "stream",
          "name": "stderr",
          "text": [
            "\n",
            "[*********************100%***********************]  1 of 1 completed"
          ]
        },
        {
          "output_type": "stream",
          "name": "stdout",
          "text": [
            "ETH-USD Model Accuracy: 0.85\n"
          ]
        },
        {
          "output_type": "stream",
          "name": "stderr",
          "text": [
            "\n",
            "[*********************100%***********************]  1 of 1 completed\n",
            "[*********************100%***********************]  1 of 1 completed"
          ]
        },
        {
          "output_type": "stream",
          "name": "stdout",
          "text": [
            "BNB-USD Model Accuracy: 0.78\n",
            "Probability of Increase for BTC-USD: 83.31%\n",
            "BUY SIGNAL: Executing trade for BTC-USD\n",
            "Probability of Increase for ETH-USD: 89.13%\n",
            "BUY SIGNAL: Executing trade for ETH-USD\n"
          ]
        },
        {
          "output_type": "stream",
          "name": "stderr",
          "text": [
            "\n",
            "\r[*********************100%***********************]  1 of 1 completed\n"
          ]
        },
        {
          "output_type": "stream",
          "name": "stdout",
          "text": [
            "Probability of Increase for BNB-USD: 93.42%\n",
            "BUY SIGNAL: Executing trade for BNB-USD\n"
          ]
        }
      ]
    },
    {
      "cell_type": "code",
      "source": [
        "import pandas as pd\n",
        "import numpy as np\n",
        "import joblib\n",
        "import xgboost as xgb\n",
        "from sklearn.model_selection import train_test_split\n",
        "from sklearn.metrics import accuracy_score\n",
        "import yfinance as yf\n",
        "import time\n",
        "\n",
        "def fetch_crypto_data(symbol, interval, lookback):\n",
        "    \"\"\"Fetch historical crypto data from Yahoo Finance\"\"\"\n",
        "    df = yf.download(symbol, period=\"60d\", interval=interval)  # Adjusted period to a valid format\n",
        "    df.reset_index(inplace=True)\n",
        "    df = df.rename(columns={'Datetime': 'timestamp', 'Open': 'open', 'High': 'high', 'Low': 'low', 'Close': 'close', 'Volume': 'volume'})\n",
        "    df.set_index(\"timestamp\", inplace=True)\n",
        "    return df\n",
        "\n",
        "def add_technical_indicators(df):\n",
        "    \"\"\"Add technical indicators to dataset\"\"\"\n",
        "    df['SMA_20'] = df['close'].rolling(window=20).mean()\n",
        "    df['EMA_20'] = df['close'].ewm(span=20, adjust=False).mean()\n",
        "    df['RSI'] = compute_rsi(df['close'])\n",
        "    df['ATR'] = compute_atr(df)\n",
        "    df.dropna(inplace=True)\n",
        "    return df\n",
        "\n",
        "def compute_rsi(series, period=14):\n",
        "    \"\"\"Compute Relative Strength Index\"\"\"\n",
        "    delta = series.diff(1)\n",
        "    gain = (delta.where(delta > 0, 0)).rolling(window=period).mean()\n",
        "    loss = (-delta.where(delta < 0, 0)).rolling(window=period).mean()\n",
        "    rs = gain / loss\n",
        "    return 100 - (100 / (1 + rs))\n",
        "\n",
        "def compute_atr(df, period=14):\n",
        "    \"\"\"Compute Average True Range\"\"\"\n",
        "    df['H-L'] = df['high'] - df['low']\n",
        "    df['H-C'] = abs(df['high'] - df['close'].shift(1))\n",
        "    df['L-C'] = abs(df['low'] - df['close'].shift(1))\n",
        "    df['TR'] = df[['H-L', 'H-C', 'L-C']].max(axis=1)\n",
        "    return df['TR'].rolling(window=period).mean()\n",
        "\n",
        "def train_model(symbol):\n",
        "    \"\"\"Train an XGBoost model for the given crypto symbol\"\"\"\n",
        "    df = fetch_crypto_data(symbol, \"1h\", 500)\n",
        "    df = add_technical_indicators(df)\n",
        "\n",
        "    df['future_return'] = df['close'].shift(-80) / df['close'] - 1\n",
        "    df['label'] = (df['future_return'] > 0).astype(int)\n",
        "    df.dropna(inplace=True)\n",
        "\n",
        "    X = df.drop(['future_return', 'label', 'close'], axis=1)  # Ensure 'close' column is not in training data\n",
        "    y = df['label']\n",
        "    X_train, X_test, y_train, y_test = train_test_split(X, y, test_size=0.2, random_state=42)\n",
        "\n",
        "    model = xgb.XGBClassifier(n_estimators=100, learning_rate=0.05, max_depth=5)\n",
        "    model.fit(X_train, y_train)\n",
        "    joblib.dump(model, f\"{symbol}_xgboost_model.pkl\")\n",
        "\n",
        "    y_pred = model.predict(X_test)\n",
        "    accuracy = accuracy_score(y_test, y_pred)\n",
        "    print(f\"{symbol} Model Accuracy: {accuracy:.2f}\")\n",
        "\n",
        "def predict(symbol, model_path):\n",
        "    \"\"\"Load trained model and predict probability\"\"\"\n",
        "    model = joblib.load(model_path)\n",
        "    df = fetch_crypto_data(symbol, \"1h\", 100)\n",
        "    df = add_technical_indicators(df)\n",
        "    X = df.iloc[-1:].drop(columns=['close'], errors='ignore')  # Ensure 'close' exists before dropping\n",
        "    prob = model.predict_proba(X)[0][1] * 100\n",
        "    print(f\"Probability of Increase for {symbol}: {prob:.2f}%\")\n",
        "    return prob\n",
        "\n",
        "def execute_trades():\n",
        "    \"\"\"Execute trades based on model predictions in real-time\"\"\"\n",
        "    symbols = [\"BTC-USD\", \"ETH-USD\", \"BNB-USD\"]\n",
        "    while True:\n",
        "        for symbol in symbols:\n",
        "            prob = predict(symbol, f\"{symbol}_xgboost_model.pkl\")\n",
        "            if prob > 60:\n",
        "                print(f\"BUY SIGNAL: Executing trade for {symbol}\")\n",
        "                # Placeholder for trade execution logic\n",
        "        time.sleep(3600)  # Wait for an hour before fetching new data\n",
        "\n",
        "def main():\n",
        "    symbols = [\"BTC-USD\", \"ETH-USD\", \"BNB-USD\"]\n",
        "    for symbol in symbols:\n",
        "        train_model(symbol)\n",
        "    execute_trades()\n",
        "\n",
        "if __name__ == \"__main__\":\n",
        "    main()\n"
      ],
      "metadata": {
        "colab": {
          "base_uri": "https://localhost:8080/",
          "height": 1000
        },
        "id": "dDJcVgc8U391",
        "outputId": "5537cd74-ad9d-4832-a16d-8190ecc949c7"
      },
      "execution_count": 13,
      "outputs": [
        {
          "output_type": "stream",
          "name": "stderr",
          "text": [
            "[*********************100%***********************]  1 of 1 completed\n",
            "[*********************100%***********************]  1 of 1 completed"
          ]
        },
        {
          "output_type": "stream",
          "name": "stdout",
          "text": [
            "BTC-USD Model Accuracy: 0.82\n"
          ]
        },
        {
          "output_type": "stream",
          "name": "stderr",
          "text": [
            "\n",
            "[*********************100%***********************]  1 of 1 completed"
          ]
        },
        {
          "output_type": "stream",
          "name": "stdout",
          "text": [
            "ETH-USD Model Accuracy: 0.85\n"
          ]
        },
        {
          "output_type": "stream",
          "name": "stderr",
          "text": [
            "\n",
            "[*********************100%***********************]  1 of 1 completed\n",
            "[*********************100%***********************]  1 of 1 completed"
          ]
        },
        {
          "output_type": "stream",
          "name": "stdout",
          "text": [
            "BNB-USD Model Accuracy: 0.78\n",
            "Probability of Increase for BTC-USD: 81.51%\n",
            "BUY SIGNAL: Executing trade for BTC-USD\n",
            "Probability of Increase for ETH-USD: 93.74%\n",
            "BUY SIGNAL: Executing trade for ETH-USD\n"
          ]
        },
        {
          "output_type": "stream",
          "name": "stderr",
          "text": [
            "\n",
            "\r[*********************100%***********************]  1 of 1 completed\n"
          ]
        },
        {
          "output_type": "stream",
          "name": "stdout",
          "text": [
            "Probability of Increase for BNB-USD: 97.87%\n",
            "BUY SIGNAL: Executing trade for BNB-USD\n"
          ]
        },
        {
          "output_type": "stream",
          "name": "stderr",
          "text": [
            "[*********************100%***********************]  1 of 1 completed\n",
            "[*********************100%***********************]  1 of 1 completed\n"
          ]
        },
        {
          "output_type": "stream",
          "name": "stdout",
          "text": [
            "Probability of Increase for BTC-USD: 81.90%\n",
            "BUY SIGNAL: Executing trade for BTC-USD\n",
            "Probability of Increase for ETH-USD: 93.04%\n",
            "BUY SIGNAL: Executing trade for ETH-USD\n"
          ]
        },
        {
          "output_type": "stream",
          "name": "stderr",
          "text": [
            "\r[*********************100%***********************]  1 of 1 completed\n"
          ]
        },
        {
          "output_type": "stream",
          "name": "stdout",
          "text": [
            "Probability of Increase for BNB-USD: 97.86%\n",
            "BUY SIGNAL: Executing trade for BNB-USD\n"
          ]
        },
        {
          "output_type": "stream",
          "name": "stderr",
          "text": [
            "[*********************100%***********************]  1 of 1 completed\n",
            "[*********************100%***********************]  1 of 1 completed\n"
          ]
        },
        {
          "output_type": "stream",
          "name": "stdout",
          "text": [
            "Probability of Increase for BTC-USD: 84.60%\n",
            "BUY SIGNAL: Executing trade for BTC-USD\n",
            "Probability of Increase for ETH-USD: 90.08%\n",
            "BUY SIGNAL: Executing trade for ETH-USD\n"
          ]
        },
        {
          "output_type": "stream",
          "name": "stderr",
          "text": [
            "\r[*********************100%***********************]  1 of 1 completed\n"
          ]
        },
        {
          "output_type": "stream",
          "name": "stdout",
          "text": [
            "Probability of Increase for BNB-USD: 94.50%\n",
            "BUY SIGNAL: Executing trade for BNB-USD\n"
          ]
        },
        {
          "output_type": "stream",
          "name": "stderr",
          "text": [
            "[*********************100%***********************]  1 of 1 completed\n",
            "[*********************100%***********************]  1 of 1 completed\n"
          ]
        },
        {
          "output_type": "stream",
          "name": "stdout",
          "text": [
            "Probability of Increase for BTC-USD: 81.29%\n",
            "BUY SIGNAL: Executing trade for BTC-USD\n",
            "Probability of Increase for ETH-USD: 94.17%\n",
            "BUY SIGNAL: Executing trade for ETH-USD\n"
          ]
        },
        {
          "output_type": "stream",
          "name": "stderr",
          "text": [
            "\r[*********************100%***********************]  1 of 1 completed\n"
          ]
        },
        {
          "output_type": "stream",
          "name": "stdout",
          "text": [
            "Probability of Increase for BNB-USD: 96.38%\n",
            "BUY SIGNAL: Executing trade for BNB-USD\n"
          ]
        },
        {
          "output_type": "stream",
          "name": "stderr",
          "text": [
            "[*********************100%***********************]  1 of 1 completed\n",
            "[*********************100%***********************]  1 of 1 completed\n"
          ]
        },
        {
          "output_type": "stream",
          "name": "stdout",
          "text": [
            "Probability of Increase for BTC-USD: 75.29%\n",
            "BUY SIGNAL: Executing trade for BTC-USD\n",
            "Probability of Increase for ETH-USD: 92.62%\n",
            "BUY SIGNAL: Executing trade for ETH-USD\n"
          ]
        },
        {
          "output_type": "stream",
          "name": "stderr",
          "text": [
            "\r[*********************100%***********************]  1 of 1 completed\n"
          ]
        },
        {
          "output_type": "stream",
          "name": "stdout",
          "text": [
            "Probability of Increase for BNB-USD: 94.75%\n",
            "BUY SIGNAL: Executing trade for BNB-USD\n"
          ]
        },
        {
          "output_type": "error",
          "ename": "KeyboardInterrupt",
          "evalue": "",
          "traceback": [
            "\u001b[0;31m---------------------------------------------------------------------------\u001b[0m",
            "\u001b[0;31mKeyboardInterrupt\u001b[0m                         Traceback (most recent call last)",
            "\u001b[0;32m<ipython-input-13-b212de087931>\u001b[0m in \u001b[0;36m<cell line: 0>\u001b[0;34m()\u001b[0m\n\u001b[1;32m     90\u001b[0m \u001b[0;34m\u001b[0m\u001b[0m\n\u001b[1;32m     91\u001b[0m \u001b[0;32mif\u001b[0m \u001b[0m__name__\u001b[0m \u001b[0;34m==\u001b[0m \u001b[0;34m\"__main__\"\u001b[0m\u001b[0;34m:\u001b[0m\u001b[0;34m\u001b[0m\u001b[0;34m\u001b[0m\u001b[0m\n\u001b[0;32m---> 92\u001b[0;31m     \u001b[0mmain\u001b[0m\u001b[0;34m(\u001b[0m\u001b[0;34m)\u001b[0m\u001b[0;34m\u001b[0m\u001b[0;34m\u001b[0m\u001b[0m\n\u001b[0m",
            "\u001b[0;32m<ipython-input-13-b212de087931>\u001b[0m in \u001b[0;36mmain\u001b[0;34m()\u001b[0m\n\u001b[1;32m     87\u001b[0m     \u001b[0;32mfor\u001b[0m \u001b[0msymbol\u001b[0m \u001b[0;32min\u001b[0m \u001b[0msymbols\u001b[0m\u001b[0;34m:\u001b[0m\u001b[0;34m\u001b[0m\u001b[0;34m\u001b[0m\u001b[0m\n\u001b[1;32m     88\u001b[0m         \u001b[0mtrain_model\u001b[0m\u001b[0;34m(\u001b[0m\u001b[0msymbol\u001b[0m\u001b[0;34m)\u001b[0m\u001b[0;34m\u001b[0m\u001b[0;34m\u001b[0m\u001b[0m\n\u001b[0;32m---> 89\u001b[0;31m     \u001b[0mexecute_trades\u001b[0m\u001b[0;34m(\u001b[0m\u001b[0;34m)\u001b[0m\u001b[0;34m\u001b[0m\u001b[0;34m\u001b[0m\u001b[0m\n\u001b[0m\u001b[1;32m     90\u001b[0m \u001b[0;34m\u001b[0m\u001b[0m\n\u001b[1;32m     91\u001b[0m \u001b[0;32mif\u001b[0m \u001b[0m__name__\u001b[0m \u001b[0;34m==\u001b[0m \u001b[0;34m\"__main__\"\u001b[0m\u001b[0;34m:\u001b[0m\u001b[0;34m\u001b[0m\u001b[0;34m\u001b[0m\u001b[0m\n",
            "\u001b[0;32m<ipython-input-13-b212de087931>\u001b[0m in \u001b[0;36mexecute_trades\u001b[0;34m()\u001b[0m\n\u001b[1;32m     81\u001b[0m                 \u001b[0mprint\u001b[0m\u001b[0;34m(\u001b[0m\u001b[0;34mf\"BUY SIGNAL: Executing trade for {symbol}\"\u001b[0m\u001b[0;34m)\u001b[0m\u001b[0;34m\u001b[0m\u001b[0;34m\u001b[0m\u001b[0m\n\u001b[1;32m     82\u001b[0m                 \u001b[0;31m# Placeholder for trade execution logic\u001b[0m\u001b[0;34m\u001b[0m\u001b[0;34m\u001b[0m\u001b[0m\n\u001b[0;32m---> 83\u001b[0;31m         \u001b[0mtime\u001b[0m\u001b[0;34m.\u001b[0m\u001b[0msleep\u001b[0m\u001b[0;34m(\u001b[0m\u001b[0;36m3600\u001b[0m\u001b[0;34m)\u001b[0m  \u001b[0;31m# Wait for an hour before fetching new data\u001b[0m\u001b[0;34m\u001b[0m\u001b[0;34m\u001b[0m\u001b[0m\n\u001b[0m\u001b[1;32m     84\u001b[0m \u001b[0;34m\u001b[0m\u001b[0m\n\u001b[1;32m     85\u001b[0m \u001b[0;32mdef\u001b[0m \u001b[0mmain\u001b[0m\u001b[0;34m(\u001b[0m\u001b[0;34m)\u001b[0m\u001b[0;34m:\u001b[0m\u001b[0;34m\u001b[0m\u001b[0;34m\u001b[0m\u001b[0m\n",
            "\u001b[0;31mKeyboardInterrupt\u001b[0m: "
          ]
        }
      ]
    }
  ]
}