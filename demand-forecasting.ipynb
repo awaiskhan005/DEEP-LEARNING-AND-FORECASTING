{
 "cells": [
  {
   "cell_type": "code",
   "execution_count": 1,
   "id": "29ad660e",
   "metadata": {
    "_cell_guid": "b1076dfc-b9ad-4769-8c92-a6c4dae69d19",
    "_uuid": "8f2839f25d086af736a60e9eeb907d3b93b6e0e5",
    "execution": {
     "iopub.execute_input": "2025-05-23T01:33:28.906660Z",
     "iopub.status.busy": "2025-05-23T01:33:28.906247Z",
     "iopub.status.idle": "2025-05-23T01:33:30.852614Z",
     "shell.execute_reply": "2025-05-23T01:33:30.851464Z"
    },
    "papermill": {
     "duration": 1.957641,
     "end_time": "2025-05-23T01:33:30.854168",
     "exception": false,
     "start_time": "2025-05-23T01:33:28.896527",
     "status": "completed"
    },
    "tags": []
   },
   "outputs": [
    {
     "name": "stdout",
     "output_type": "stream",
     "text": [
      "/kaggle/input/demand-forecasting/test_nfaJ3J5.csv\n",
      "/kaggle/input/demand-forecasting/train_0irEZ2H.csv\n",
      "/kaggle/input/demand-forecasting/sample_submission_pzljTaX.csv\n"
     ]
    }
   ],
   "source": [
    "# This Python 3 environment comes with many helpful analytics libraries installed\n",
    "# It is defined by the kaggle/python Docker image: https://github.com/kaggle/docker-python\n",
    "# For example, here's several helpful packages to load\n",
    "\n",
    "import numpy as np # linear algebra\n",
    "import pandas as pd # data processing, CSV file I/O (e.g. pd.read_csv)\n",
    "\n",
    "# Input data files are available in the read-only \"../input/\" directory\n",
    "# For example, running this (by clicking run or pressing Shift+Enter) will list all files under the input directory\n",
    "\n",
    "import os\n",
    "for dirname, _, filenames in os.walk('/kaggle/input'):\n",
    "    for filename in filenames:\n",
    "        print(os.path.join(dirname, filename))\n",
    "\n",
    "# You can write up to 20GB to the current directory (/kaggle/working/) that gets preserved as output when you create a version using \"Save & Run All\" \n",
    "# You can also write temporary files to /kaggle/temp/, but they won't be saved outside of the current session"
   ]
  },
  {
   "cell_type": "code",
   "execution_count": 2,
   "id": "148641a4",
   "metadata": {
    "execution": {
     "iopub.execute_input": "2025-05-23T01:33:30.870379Z",
     "iopub.status.busy": "2025-05-23T01:33:30.869959Z",
     "iopub.status.idle": "2025-05-23T01:33:33.637875Z",
     "shell.execute_reply": "2025-05-23T01:33:33.636934Z"
    },
    "papermill": {
     "duration": 2.777569,
     "end_time": "2025-05-23T01:33:33.639515",
     "exception": false,
     "start_time": "2025-05-23T01:33:30.861946",
     "status": "completed"
    },
    "tags": []
   },
   "outputs": [],
   "source": [
    "import numpy as np\n",
    "import pandas as pd \n",
    "import os\n",
    "import seaborn as sns\n",
    "from sklearn.metrics import mean_squared_error, mean_absolute_error\n",
    "from sklearn.model_selection import train_test_split\n",
    "from sklearn.tree import DecisionTreeRegressor\n",
    "from sklearn.ensemble import RandomForestRegressor, GradientBoostingRegressor\n",
    "from xgboost import XGBRegressor\n",
    "from sklearn.preprocessing import StandardScaler\n",
    "from sklearn.linear_model import SGDRegressor, LinearRegression\n",
    "from sklearn.metrics import mean_squared_error\n",
    "import matplotlib.pyplot as plt"
   ]
  },
  {
   "cell_type": "code",
   "execution_count": 3,
   "id": "75fa6953",
   "metadata": {
    "execution": {
     "iopub.execute_input": "2025-05-23T01:33:33.656010Z",
     "iopub.status.busy": "2025-05-23T01:33:33.655356Z",
     "iopub.status.idle": "2025-05-23T01:33:33.660229Z",
     "shell.execute_reply": "2025-05-23T01:33:33.659166Z"
    },
    "papermill": {
     "duration": 0.014585,
     "end_time": "2025-05-23T01:33:33.661808",
     "exception": false,
     "start_time": "2025-05-23T01:33:33.647223",
     "status": "completed"
    },
    "tags": []
   },
   "outputs": [],
   "source": [
    "import pandas as pd"
   ]
  },
  {
   "cell_type": "code",
   "execution_count": 4,
   "id": "c45272c4",
   "metadata": {
    "execution": {
     "iopub.execute_input": "2025-05-23T01:33:33.677158Z",
     "iopub.status.busy": "2025-05-23T01:33:33.676846Z",
     "iopub.status.idle": "2025-05-23T01:33:33.939694Z",
     "shell.execute_reply": "2025-05-23T01:33:33.938868Z"
    },
    "papermill": {
     "duration": 0.272383,
     "end_time": "2025-05-23T01:33:33.941271",
     "exception": false,
     "start_time": "2025-05-23T01:33:33.668888",
     "status": "completed"
    },
    "tags": []
   },
   "outputs": [],
   "source": [
    "df=pd.read_csv(\"/kaggle/input/demand-forecasting/train_0irEZ2H.csv\")"
   ]
  },
  {
   "cell_type": "code",
   "execution_count": 5,
   "id": "33591ee4",
   "metadata": {
    "execution": {
     "iopub.execute_input": "2025-05-23T01:33:33.958442Z",
     "iopub.status.busy": "2025-05-23T01:33:33.958162Z",
     "iopub.status.idle": "2025-05-23T01:33:33.988640Z",
     "shell.execute_reply": "2025-05-23T01:33:33.987763Z"
    },
    "papermill": {
     "duration": 0.04156,
     "end_time": "2025-05-23T01:33:33.990185",
     "exception": false,
     "start_time": "2025-05-23T01:33:33.948625",
     "status": "completed"
    },
    "tags": []
   },
   "outputs": [
    {
     "data": {
      "text/html": [
       "<div>\n",
       "<style scoped>\n",
       "    .dataframe tbody tr th:only-of-type {\n",
       "        vertical-align: middle;\n",
       "    }\n",
       "\n",
       "    .dataframe tbody tr th {\n",
       "        vertical-align: top;\n",
       "    }\n",
       "\n",
       "    .dataframe thead th {\n",
       "        text-align: right;\n",
       "    }\n",
       "</style>\n",
       "<table border=\"1\" class=\"dataframe\">\n",
       "  <thead>\n",
       "    <tr style=\"text-align: right;\">\n",
       "      <th></th>\n",
       "      <th>record_ID</th>\n",
       "      <th>week</th>\n",
       "      <th>store_id</th>\n",
       "      <th>sku_id</th>\n",
       "      <th>total_price</th>\n",
       "      <th>base_price</th>\n",
       "      <th>is_featured_sku</th>\n",
       "      <th>is_display_sku</th>\n",
       "      <th>units_sold</th>\n",
       "    </tr>\n",
       "  </thead>\n",
       "  <tbody>\n",
       "    <tr>\n",
       "      <th>0</th>\n",
       "      <td>1</td>\n",
       "      <td>17/01/11</td>\n",
       "      <td>8091</td>\n",
       "      <td>216418</td>\n",
       "      <td>99.0375</td>\n",
       "      <td>111.8625</td>\n",
       "      <td>0</td>\n",
       "      <td>0</td>\n",
       "      <td>20</td>\n",
       "    </tr>\n",
       "    <tr>\n",
       "      <th>1</th>\n",
       "      <td>2</td>\n",
       "      <td>17/01/11</td>\n",
       "      <td>8091</td>\n",
       "      <td>216419</td>\n",
       "      <td>99.0375</td>\n",
       "      <td>99.0375</td>\n",
       "      <td>0</td>\n",
       "      <td>0</td>\n",
       "      <td>28</td>\n",
       "    </tr>\n",
       "    <tr>\n",
       "      <th>2</th>\n",
       "      <td>3</td>\n",
       "      <td>17/01/11</td>\n",
       "      <td>8091</td>\n",
       "      <td>216425</td>\n",
       "      <td>133.9500</td>\n",
       "      <td>133.9500</td>\n",
       "      <td>0</td>\n",
       "      <td>0</td>\n",
       "      <td>19</td>\n",
       "    </tr>\n",
       "    <tr>\n",
       "      <th>3</th>\n",
       "      <td>4</td>\n",
       "      <td>17/01/11</td>\n",
       "      <td>8091</td>\n",
       "      <td>216233</td>\n",
       "      <td>133.9500</td>\n",
       "      <td>133.9500</td>\n",
       "      <td>0</td>\n",
       "      <td>0</td>\n",
       "      <td>44</td>\n",
       "    </tr>\n",
       "    <tr>\n",
       "      <th>4</th>\n",
       "      <td>5</td>\n",
       "      <td>17/01/11</td>\n",
       "      <td>8091</td>\n",
       "      <td>217390</td>\n",
       "      <td>141.0750</td>\n",
       "      <td>141.0750</td>\n",
       "      <td>0</td>\n",
       "      <td>0</td>\n",
       "      <td>52</td>\n",
       "    </tr>\n",
       "    <tr>\n",
       "      <th>...</th>\n",
       "      <td>...</td>\n",
       "      <td>...</td>\n",
       "      <td>...</td>\n",
       "      <td>...</td>\n",
       "      <td>...</td>\n",
       "      <td>...</td>\n",
       "      <td>...</td>\n",
       "      <td>...</td>\n",
       "      <td>...</td>\n",
       "    </tr>\n",
       "    <tr>\n",
       "      <th>150145</th>\n",
       "      <td>212638</td>\n",
       "      <td>09/07/13</td>\n",
       "      <td>9984</td>\n",
       "      <td>223245</td>\n",
       "      <td>235.8375</td>\n",
       "      <td>235.8375</td>\n",
       "      <td>0</td>\n",
       "      <td>0</td>\n",
       "      <td>38</td>\n",
       "    </tr>\n",
       "    <tr>\n",
       "      <th>150146</th>\n",
       "      <td>212639</td>\n",
       "      <td>09/07/13</td>\n",
       "      <td>9984</td>\n",
       "      <td>223153</td>\n",
       "      <td>235.8375</td>\n",
       "      <td>235.8375</td>\n",
       "      <td>0</td>\n",
       "      <td>0</td>\n",
       "      <td>30</td>\n",
       "    </tr>\n",
       "    <tr>\n",
       "      <th>150147</th>\n",
       "      <td>212642</td>\n",
       "      <td>09/07/13</td>\n",
       "      <td>9984</td>\n",
       "      <td>245338</td>\n",
       "      <td>357.6750</td>\n",
       "      <td>483.7875</td>\n",
       "      <td>1</td>\n",
       "      <td>1</td>\n",
       "      <td>31</td>\n",
       "    </tr>\n",
       "    <tr>\n",
       "      <th>150148</th>\n",
       "      <td>212643</td>\n",
       "      <td>09/07/13</td>\n",
       "      <td>9984</td>\n",
       "      <td>547934</td>\n",
       "      <td>141.7875</td>\n",
       "      <td>191.6625</td>\n",
       "      <td>0</td>\n",
       "      <td>1</td>\n",
       "      <td>12</td>\n",
       "    </tr>\n",
       "    <tr>\n",
       "      <th>150149</th>\n",
       "      <td>212644</td>\n",
       "      <td>09/07/13</td>\n",
       "      <td>9984</td>\n",
       "      <td>679023</td>\n",
       "      <td>234.4125</td>\n",
       "      <td>234.4125</td>\n",
       "      <td>0</td>\n",
       "      <td>0</td>\n",
       "      <td>15</td>\n",
       "    </tr>\n",
       "  </tbody>\n",
       "</table>\n",
       "<p>150150 rows × 9 columns</p>\n",
       "</div>"
      ],
      "text/plain": [
       "        record_ID      week  store_id  sku_id  total_price  base_price  \\\n",
       "0               1  17/01/11      8091  216418      99.0375    111.8625   \n",
       "1               2  17/01/11      8091  216419      99.0375     99.0375   \n",
       "2               3  17/01/11      8091  216425     133.9500    133.9500   \n",
       "3               4  17/01/11      8091  216233     133.9500    133.9500   \n",
       "4               5  17/01/11      8091  217390     141.0750    141.0750   \n",
       "...           ...       ...       ...     ...          ...         ...   \n",
       "150145     212638  09/07/13      9984  223245     235.8375    235.8375   \n",
       "150146     212639  09/07/13      9984  223153     235.8375    235.8375   \n",
       "150147     212642  09/07/13      9984  245338     357.6750    483.7875   \n",
       "150148     212643  09/07/13      9984  547934     141.7875    191.6625   \n",
       "150149     212644  09/07/13      9984  679023     234.4125    234.4125   \n",
       "\n",
       "        is_featured_sku  is_display_sku  units_sold  \n",
       "0                     0               0          20  \n",
       "1                     0               0          28  \n",
       "2                     0               0          19  \n",
       "3                     0               0          44  \n",
       "4                     0               0          52  \n",
       "...                 ...             ...         ...  \n",
       "150145                0               0          38  \n",
       "150146                0               0          30  \n",
       "150147                1               1          31  \n",
       "150148                0               1          12  \n",
       "150149                0               0          15  \n",
       "\n",
       "[150150 rows x 9 columns]"
      ]
     },
     "execution_count": 5,
     "metadata": {},
     "output_type": "execute_result"
    }
   ],
   "source": [
    "df"
   ]
  },
  {
   "cell_type": "code",
   "execution_count": 6,
   "id": "20e34d99",
   "metadata": {
    "execution": {
     "iopub.execute_input": "2025-05-23T01:33:34.006295Z",
     "iopub.status.busy": "2025-05-23T01:33:34.006028Z",
     "iopub.status.idle": "2025-05-23T01:33:34.456413Z",
     "shell.execute_reply": "2025-05-23T01:33:34.455403Z"
    },
    "papermill": {
     "duration": 0.460202,
     "end_time": "2025-05-23T01:33:34.458101",
     "exception": false,
     "start_time": "2025-05-23T01:33:33.997899",
     "status": "completed"
    },
    "tags": []
   },
   "outputs": [],
   "source": [
    "df[['day','month','year']]=df[\"week\"].str.split('/',expand=True)"
   ]
  },
  {
   "cell_type": "code",
   "execution_count": 7,
   "id": "caba7023",
   "metadata": {
    "execution": {
     "iopub.execute_input": "2025-05-23T01:33:34.474197Z",
     "iopub.status.busy": "2025-05-23T01:33:34.473928Z",
     "iopub.status.idle": "2025-05-23T01:33:34.489612Z",
     "shell.execute_reply": "2025-05-23T01:33:34.488694Z"
    },
    "papermill": {
     "duration": 0.02547,
     "end_time": "2025-05-23T01:33:34.491121",
     "exception": false,
     "start_time": "2025-05-23T01:33:34.465651",
     "status": "completed"
    },
    "tags": []
   },
   "outputs": [
    {
     "data": {
      "text/html": [
       "<div>\n",
       "<style scoped>\n",
       "    .dataframe tbody tr th:only-of-type {\n",
       "        vertical-align: middle;\n",
       "    }\n",
       "\n",
       "    .dataframe tbody tr th {\n",
       "        vertical-align: top;\n",
       "    }\n",
       "\n",
       "    .dataframe thead th {\n",
       "        text-align: right;\n",
       "    }\n",
       "</style>\n",
       "<table border=\"1\" class=\"dataframe\">\n",
       "  <thead>\n",
       "    <tr style=\"text-align: right;\">\n",
       "      <th></th>\n",
       "      <th>record_ID</th>\n",
       "      <th>week</th>\n",
       "      <th>store_id</th>\n",
       "      <th>sku_id</th>\n",
       "      <th>total_price</th>\n",
       "      <th>base_price</th>\n",
       "      <th>is_featured_sku</th>\n",
       "      <th>is_display_sku</th>\n",
       "      <th>units_sold</th>\n",
       "      <th>day</th>\n",
       "      <th>month</th>\n",
       "      <th>year</th>\n",
       "    </tr>\n",
       "  </thead>\n",
       "  <tbody>\n",
       "    <tr>\n",
       "      <th>0</th>\n",
       "      <td>1</td>\n",
       "      <td>17/01/11</td>\n",
       "      <td>8091</td>\n",
       "      <td>216418</td>\n",
       "      <td>99.0375</td>\n",
       "      <td>111.8625</td>\n",
       "      <td>0</td>\n",
       "      <td>0</td>\n",
       "      <td>20</td>\n",
       "      <td>17</td>\n",
       "      <td>01</td>\n",
       "      <td>11</td>\n",
       "    </tr>\n",
       "    <tr>\n",
       "      <th>1</th>\n",
       "      <td>2</td>\n",
       "      <td>17/01/11</td>\n",
       "      <td>8091</td>\n",
       "      <td>216419</td>\n",
       "      <td>99.0375</td>\n",
       "      <td>99.0375</td>\n",
       "      <td>0</td>\n",
       "      <td>0</td>\n",
       "      <td>28</td>\n",
       "      <td>17</td>\n",
       "      <td>01</td>\n",
       "      <td>11</td>\n",
       "    </tr>\n",
       "    <tr>\n",
       "      <th>2</th>\n",
       "      <td>3</td>\n",
       "      <td>17/01/11</td>\n",
       "      <td>8091</td>\n",
       "      <td>216425</td>\n",
       "      <td>133.9500</td>\n",
       "      <td>133.9500</td>\n",
       "      <td>0</td>\n",
       "      <td>0</td>\n",
       "      <td>19</td>\n",
       "      <td>17</td>\n",
       "      <td>01</td>\n",
       "      <td>11</td>\n",
       "    </tr>\n",
       "    <tr>\n",
       "      <th>3</th>\n",
       "      <td>4</td>\n",
       "      <td>17/01/11</td>\n",
       "      <td>8091</td>\n",
       "      <td>216233</td>\n",
       "      <td>133.9500</td>\n",
       "      <td>133.9500</td>\n",
       "      <td>0</td>\n",
       "      <td>0</td>\n",
       "      <td>44</td>\n",
       "      <td>17</td>\n",
       "      <td>01</td>\n",
       "      <td>11</td>\n",
       "    </tr>\n",
       "    <tr>\n",
       "      <th>4</th>\n",
       "      <td>5</td>\n",
       "      <td>17/01/11</td>\n",
       "      <td>8091</td>\n",
       "      <td>217390</td>\n",
       "      <td>141.0750</td>\n",
       "      <td>141.0750</td>\n",
       "      <td>0</td>\n",
       "      <td>0</td>\n",
       "      <td>52</td>\n",
       "      <td>17</td>\n",
       "      <td>01</td>\n",
       "      <td>11</td>\n",
       "    </tr>\n",
       "    <tr>\n",
       "      <th>...</th>\n",
       "      <td>...</td>\n",
       "      <td>...</td>\n",
       "      <td>...</td>\n",
       "      <td>...</td>\n",
       "      <td>...</td>\n",
       "      <td>...</td>\n",
       "      <td>...</td>\n",
       "      <td>...</td>\n",
       "      <td>...</td>\n",
       "      <td>...</td>\n",
       "      <td>...</td>\n",
       "      <td>...</td>\n",
       "    </tr>\n",
       "    <tr>\n",
       "      <th>150145</th>\n",
       "      <td>212638</td>\n",
       "      <td>09/07/13</td>\n",
       "      <td>9984</td>\n",
       "      <td>223245</td>\n",
       "      <td>235.8375</td>\n",
       "      <td>235.8375</td>\n",
       "      <td>0</td>\n",
       "      <td>0</td>\n",
       "      <td>38</td>\n",
       "      <td>09</td>\n",
       "      <td>07</td>\n",
       "      <td>13</td>\n",
       "    </tr>\n",
       "    <tr>\n",
       "      <th>150146</th>\n",
       "      <td>212639</td>\n",
       "      <td>09/07/13</td>\n",
       "      <td>9984</td>\n",
       "      <td>223153</td>\n",
       "      <td>235.8375</td>\n",
       "      <td>235.8375</td>\n",
       "      <td>0</td>\n",
       "      <td>0</td>\n",
       "      <td>30</td>\n",
       "      <td>09</td>\n",
       "      <td>07</td>\n",
       "      <td>13</td>\n",
       "    </tr>\n",
       "    <tr>\n",
       "      <th>150147</th>\n",
       "      <td>212642</td>\n",
       "      <td>09/07/13</td>\n",
       "      <td>9984</td>\n",
       "      <td>245338</td>\n",
       "      <td>357.6750</td>\n",
       "      <td>483.7875</td>\n",
       "      <td>1</td>\n",
       "      <td>1</td>\n",
       "      <td>31</td>\n",
       "      <td>09</td>\n",
       "      <td>07</td>\n",
       "      <td>13</td>\n",
       "    </tr>\n",
       "    <tr>\n",
       "      <th>150148</th>\n",
       "      <td>212643</td>\n",
       "      <td>09/07/13</td>\n",
       "      <td>9984</td>\n",
       "      <td>547934</td>\n",
       "      <td>141.7875</td>\n",
       "      <td>191.6625</td>\n",
       "      <td>0</td>\n",
       "      <td>1</td>\n",
       "      <td>12</td>\n",
       "      <td>09</td>\n",
       "      <td>07</td>\n",
       "      <td>13</td>\n",
       "    </tr>\n",
       "    <tr>\n",
       "      <th>150149</th>\n",
       "      <td>212644</td>\n",
       "      <td>09/07/13</td>\n",
       "      <td>9984</td>\n",
       "      <td>679023</td>\n",
       "      <td>234.4125</td>\n",
       "      <td>234.4125</td>\n",
       "      <td>0</td>\n",
       "      <td>0</td>\n",
       "      <td>15</td>\n",
       "      <td>09</td>\n",
       "      <td>07</td>\n",
       "      <td>13</td>\n",
       "    </tr>\n",
       "  </tbody>\n",
       "</table>\n",
       "<p>150150 rows × 12 columns</p>\n",
       "</div>"
      ],
      "text/plain": [
       "        record_ID      week  store_id  sku_id  total_price  base_price  \\\n",
       "0               1  17/01/11      8091  216418      99.0375    111.8625   \n",
       "1               2  17/01/11      8091  216419      99.0375     99.0375   \n",
       "2               3  17/01/11      8091  216425     133.9500    133.9500   \n",
       "3               4  17/01/11      8091  216233     133.9500    133.9500   \n",
       "4               5  17/01/11      8091  217390     141.0750    141.0750   \n",
       "...           ...       ...       ...     ...          ...         ...   \n",
       "150145     212638  09/07/13      9984  223245     235.8375    235.8375   \n",
       "150146     212639  09/07/13      9984  223153     235.8375    235.8375   \n",
       "150147     212642  09/07/13      9984  245338     357.6750    483.7875   \n",
       "150148     212643  09/07/13      9984  547934     141.7875    191.6625   \n",
       "150149     212644  09/07/13      9984  679023     234.4125    234.4125   \n",
       "\n",
       "        is_featured_sku  is_display_sku  units_sold day month year  \n",
       "0                     0               0          20  17    01   11  \n",
       "1                     0               0          28  17    01   11  \n",
       "2                     0               0          19  17    01   11  \n",
       "3                     0               0          44  17    01   11  \n",
       "4                     0               0          52  17    01   11  \n",
       "...                 ...             ...         ...  ..   ...  ...  \n",
       "150145                0               0          38  09    07   13  \n",
       "150146                0               0          30  09    07   13  \n",
       "150147                1               1          31  09    07   13  \n",
       "150148                0               1          12  09    07   13  \n",
       "150149                0               0          15  09    07   13  \n",
       "\n",
       "[150150 rows x 12 columns]"
      ]
     },
     "execution_count": 7,
     "metadata": {},
     "output_type": "execute_result"
    }
   ],
   "source": [
    "df"
   ]
  },
  {
   "cell_type": "code",
   "execution_count": 8,
   "id": "c134f3e0",
   "metadata": {
    "execution": {
     "iopub.execute_input": "2025-05-23T01:33:34.508281Z",
     "iopub.status.busy": "2025-05-23T01:33:34.507704Z",
     "iopub.status.idle": "2025-05-23T01:33:34.531194Z",
     "shell.execute_reply": "2025-05-23T01:33:34.530250Z"
    },
    "papermill": {
     "duration": 0.033816,
     "end_time": "2025-05-23T01:33:34.532909",
     "exception": false,
     "start_time": "2025-05-23T01:33:34.499093",
     "status": "completed"
    },
    "tags": []
   },
   "outputs": [],
   "source": [
    "df=df.drop(\"week\",axis=1)"
   ]
  },
  {
   "cell_type": "code",
   "execution_count": 9,
   "id": "7e5fa95b",
   "metadata": {
    "execution": {
     "iopub.execute_input": "2025-05-23T01:33:34.549785Z",
     "iopub.status.busy": "2025-05-23T01:33:34.549205Z",
     "iopub.status.idle": "2025-05-23T01:33:34.562471Z",
     "shell.execute_reply": "2025-05-23T01:33:34.561652Z"
    },
    "papermill": {
     "duration": 0.023118,
     "end_time": "2025-05-23T01:33:34.563880",
     "exception": false,
     "start_time": "2025-05-23T01:33:34.540762",
     "status": "completed"
    },
    "tags": []
   },
   "outputs": [
    {
     "data": {
      "text/html": [
       "<div>\n",
       "<style scoped>\n",
       "    .dataframe tbody tr th:only-of-type {\n",
       "        vertical-align: middle;\n",
       "    }\n",
       "\n",
       "    .dataframe tbody tr th {\n",
       "        vertical-align: top;\n",
       "    }\n",
       "\n",
       "    .dataframe thead th {\n",
       "        text-align: right;\n",
       "    }\n",
       "</style>\n",
       "<table border=\"1\" class=\"dataframe\">\n",
       "  <thead>\n",
       "    <tr style=\"text-align: right;\">\n",
       "      <th></th>\n",
       "      <th>record_ID</th>\n",
       "      <th>store_id</th>\n",
       "      <th>sku_id</th>\n",
       "      <th>total_price</th>\n",
       "      <th>base_price</th>\n",
       "      <th>is_featured_sku</th>\n",
       "      <th>is_display_sku</th>\n",
       "      <th>units_sold</th>\n",
       "      <th>day</th>\n",
       "      <th>month</th>\n",
       "      <th>year</th>\n",
       "    </tr>\n",
       "  </thead>\n",
       "  <tbody>\n",
       "    <tr>\n",
       "      <th>0</th>\n",
       "      <td>1</td>\n",
       "      <td>8091</td>\n",
       "      <td>216418</td>\n",
       "      <td>99.0375</td>\n",
       "      <td>111.8625</td>\n",
       "      <td>0</td>\n",
       "      <td>0</td>\n",
       "      <td>20</td>\n",
       "      <td>17</td>\n",
       "      <td>01</td>\n",
       "      <td>11</td>\n",
       "    </tr>\n",
       "    <tr>\n",
       "      <th>1</th>\n",
       "      <td>2</td>\n",
       "      <td>8091</td>\n",
       "      <td>216419</td>\n",
       "      <td>99.0375</td>\n",
       "      <td>99.0375</td>\n",
       "      <td>0</td>\n",
       "      <td>0</td>\n",
       "      <td>28</td>\n",
       "      <td>17</td>\n",
       "      <td>01</td>\n",
       "      <td>11</td>\n",
       "    </tr>\n",
       "    <tr>\n",
       "      <th>2</th>\n",
       "      <td>3</td>\n",
       "      <td>8091</td>\n",
       "      <td>216425</td>\n",
       "      <td>133.9500</td>\n",
       "      <td>133.9500</td>\n",
       "      <td>0</td>\n",
       "      <td>0</td>\n",
       "      <td>19</td>\n",
       "      <td>17</td>\n",
       "      <td>01</td>\n",
       "      <td>11</td>\n",
       "    </tr>\n",
       "    <tr>\n",
       "      <th>3</th>\n",
       "      <td>4</td>\n",
       "      <td>8091</td>\n",
       "      <td>216233</td>\n",
       "      <td>133.9500</td>\n",
       "      <td>133.9500</td>\n",
       "      <td>0</td>\n",
       "      <td>0</td>\n",
       "      <td>44</td>\n",
       "      <td>17</td>\n",
       "      <td>01</td>\n",
       "      <td>11</td>\n",
       "    </tr>\n",
       "    <tr>\n",
       "      <th>4</th>\n",
       "      <td>5</td>\n",
       "      <td>8091</td>\n",
       "      <td>217390</td>\n",
       "      <td>141.0750</td>\n",
       "      <td>141.0750</td>\n",
       "      <td>0</td>\n",
       "      <td>0</td>\n",
       "      <td>52</td>\n",
       "      <td>17</td>\n",
       "      <td>01</td>\n",
       "      <td>11</td>\n",
       "    </tr>\n",
       "    <tr>\n",
       "      <th>...</th>\n",
       "      <td>...</td>\n",
       "      <td>...</td>\n",
       "      <td>...</td>\n",
       "      <td>...</td>\n",
       "      <td>...</td>\n",
       "      <td>...</td>\n",
       "      <td>...</td>\n",
       "      <td>...</td>\n",
       "      <td>...</td>\n",
       "      <td>...</td>\n",
       "      <td>...</td>\n",
       "    </tr>\n",
       "    <tr>\n",
       "      <th>150145</th>\n",
       "      <td>212638</td>\n",
       "      <td>9984</td>\n",
       "      <td>223245</td>\n",
       "      <td>235.8375</td>\n",
       "      <td>235.8375</td>\n",
       "      <td>0</td>\n",
       "      <td>0</td>\n",
       "      <td>38</td>\n",
       "      <td>09</td>\n",
       "      <td>07</td>\n",
       "      <td>13</td>\n",
       "    </tr>\n",
       "    <tr>\n",
       "      <th>150146</th>\n",
       "      <td>212639</td>\n",
       "      <td>9984</td>\n",
       "      <td>223153</td>\n",
       "      <td>235.8375</td>\n",
       "      <td>235.8375</td>\n",
       "      <td>0</td>\n",
       "      <td>0</td>\n",
       "      <td>30</td>\n",
       "      <td>09</td>\n",
       "      <td>07</td>\n",
       "      <td>13</td>\n",
       "    </tr>\n",
       "    <tr>\n",
       "      <th>150147</th>\n",
       "      <td>212642</td>\n",
       "      <td>9984</td>\n",
       "      <td>245338</td>\n",
       "      <td>357.6750</td>\n",
       "      <td>483.7875</td>\n",
       "      <td>1</td>\n",
       "      <td>1</td>\n",
       "      <td>31</td>\n",
       "      <td>09</td>\n",
       "      <td>07</td>\n",
       "      <td>13</td>\n",
       "    </tr>\n",
       "    <tr>\n",
       "      <th>150148</th>\n",
       "      <td>212643</td>\n",
       "      <td>9984</td>\n",
       "      <td>547934</td>\n",
       "      <td>141.7875</td>\n",
       "      <td>191.6625</td>\n",
       "      <td>0</td>\n",
       "      <td>1</td>\n",
       "      <td>12</td>\n",
       "      <td>09</td>\n",
       "      <td>07</td>\n",
       "      <td>13</td>\n",
       "    </tr>\n",
       "    <tr>\n",
       "      <th>150149</th>\n",
       "      <td>212644</td>\n",
       "      <td>9984</td>\n",
       "      <td>679023</td>\n",
       "      <td>234.4125</td>\n",
       "      <td>234.4125</td>\n",
       "      <td>0</td>\n",
       "      <td>0</td>\n",
       "      <td>15</td>\n",
       "      <td>09</td>\n",
       "      <td>07</td>\n",
       "      <td>13</td>\n",
       "    </tr>\n",
       "  </tbody>\n",
       "</table>\n",
       "<p>150150 rows × 11 columns</p>\n",
       "</div>"
      ],
      "text/plain": [
       "        record_ID  store_id  sku_id  total_price  base_price  is_featured_sku  \\\n",
       "0               1      8091  216418      99.0375    111.8625                0   \n",
       "1               2      8091  216419      99.0375     99.0375                0   \n",
       "2               3      8091  216425     133.9500    133.9500                0   \n",
       "3               4      8091  216233     133.9500    133.9500                0   \n",
       "4               5      8091  217390     141.0750    141.0750                0   \n",
       "...           ...       ...     ...          ...         ...              ...   \n",
       "150145     212638      9984  223245     235.8375    235.8375                0   \n",
       "150146     212639      9984  223153     235.8375    235.8375                0   \n",
       "150147     212642      9984  245338     357.6750    483.7875                1   \n",
       "150148     212643      9984  547934     141.7875    191.6625                0   \n",
       "150149     212644      9984  679023     234.4125    234.4125                0   \n",
       "\n",
       "        is_display_sku  units_sold day month year  \n",
       "0                    0          20  17    01   11  \n",
       "1                    0          28  17    01   11  \n",
       "2                    0          19  17    01   11  \n",
       "3                    0          44  17    01   11  \n",
       "4                    0          52  17    01   11  \n",
       "...                ...         ...  ..   ...  ...  \n",
       "150145               0          38  09    07   13  \n",
       "150146               0          30  09    07   13  \n",
       "150147               1          31  09    07   13  \n",
       "150148               1          12  09    07   13  \n",
       "150149               0          15  09    07   13  \n",
       "\n",
       "[150150 rows x 11 columns]"
      ]
     },
     "execution_count": 9,
     "metadata": {},
     "output_type": "execute_result"
    }
   ],
   "source": [
    "df"
   ]
  },
  {
   "cell_type": "code",
   "execution_count": 10,
   "id": "0930ab97",
   "metadata": {
    "execution": {
     "iopub.execute_input": "2025-05-23T01:33:34.581874Z",
     "iopub.status.busy": "2025-05-23T01:33:34.581525Z",
     "iopub.status.idle": "2025-05-23T01:33:34.641777Z",
     "shell.execute_reply": "2025-05-23T01:33:34.640792Z"
    },
    "papermill": {
     "duration": 0.070477,
     "end_time": "2025-05-23T01:33:34.643297",
     "exception": false,
     "start_time": "2025-05-23T01:33:34.572820",
     "status": "completed"
    },
    "tags": []
   },
   "outputs": [
    {
     "name": "stdout",
     "output_type": "stream",
     "text": [
      "<class 'pandas.core.frame.DataFrame'>\n",
      "RangeIndex: 150150 entries, 0 to 150149\n",
      "Data columns (total 11 columns):\n",
      " #   Column           Non-Null Count   Dtype  \n",
      "---  ------           --------------   -----  \n",
      " 0   record_ID        150150 non-null  int64  \n",
      " 1   store_id         150150 non-null  int64  \n",
      " 2   sku_id           150150 non-null  int64  \n",
      " 3   total_price      150149 non-null  float64\n",
      " 4   base_price       150150 non-null  float64\n",
      " 5   is_featured_sku  150150 non-null  int64  \n",
      " 6   is_display_sku   150150 non-null  int64  \n",
      " 7   units_sold       150150 non-null  int64  \n",
      " 8   day              150150 non-null  object \n",
      " 9   month            150150 non-null  object \n",
      " 10  year             150150 non-null  object \n",
      "dtypes: float64(2), int64(6), object(3)\n",
      "memory usage: 12.6+ MB\n",
      "None\n"
     ]
    }
   ],
   "source": [
    "# Check data info and types\n",
    "print(df.info())"
   ]
  },
  {
   "cell_type": "code",
   "execution_count": 11,
   "id": "ef33163c",
   "metadata": {
    "execution": {
     "iopub.execute_input": "2025-05-23T01:33:34.660531Z",
     "iopub.status.busy": "2025-05-23T01:33:34.660201Z",
     "iopub.status.idle": "2025-05-23T01:33:34.724239Z",
     "shell.execute_reply": "2025-05-23T01:33:34.723129Z"
    },
    "papermill": {
     "duration": 0.074467,
     "end_time": "2025-05-23T01:33:34.725942",
     "exception": false,
     "start_time": "2025-05-23T01:33:34.651475",
     "status": "completed"
    },
    "tags": []
   },
   "outputs": [
    {
     "name": "stdout",
     "output_type": "stream",
     "text": [
      "           record_ID       store_id         sku_id    total_price  \\\n",
      "count  150150.000000  150150.000000  150150.000000  150149.000000   \n",
      "mean   106271.555504    9199.422511  254761.132468     206.626751   \n",
      "std     61386.037861     615.591445   85547.306447     103.308516   \n",
      "min         1.000000    8023.000000  216233.000000      41.325000   \n",
      "25%     53111.250000    8562.000000  217217.000000     130.387500   \n",
      "50%    106226.500000    9371.000000  222087.000000     198.075000   \n",
      "75%    159452.750000    9731.000000  245338.000000     233.700000   \n",
      "max    212644.000000    9984.000000  679023.000000     562.162500   \n",
      "\n",
      "          base_price  is_featured_sku  is_display_sku     units_sold  \n",
      "count  150150.000000    150150.000000   150150.000000  150150.000000  \n",
      "mean      219.425927         0.095611        0.133200      51.674206  \n",
      "std       110.961712         0.294058        0.339792      60.207904  \n",
      "min        61.275000         0.000000        0.000000       1.000000  \n",
      "25%       133.237500         0.000000        0.000000      20.000000  \n",
      "50%       205.912500         0.000000        0.000000      35.000000  \n",
      "75%       234.412500         0.000000        0.000000      62.000000  \n",
      "max       562.162500         1.000000        1.000000    2876.000000  \n"
     ]
    }
   ],
   "source": [
    "# Summary stats for numeric columns\n",
    "print(df.describe())"
   ]
  },
  {
   "cell_type": "code",
   "execution_count": 12,
   "id": "d8e812c5",
   "metadata": {
    "execution": {
     "iopub.execute_input": "2025-05-23T01:33:34.743158Z",
     "iopub.status.busy": "2025-05-23T01:33:34.742832Z",
     "iopub.status.idle": "2025-05-23T01:33:34.789698Z",
     "shell.execute_reply": "2025-05-23T01:33:34.788535Z"
    },
    "papermill": {
     "duration": 0.05718,
     "end_time": "2025-05-23T01:33:34.791222",
     "exception": false,
     "start_time": "2025-05-23T01:33:34.734042",
     "status": "completed"
    },
    "tags": []
   },
   "outputs": [
    {
     "name": "stdout",
     "output_type": "stream",
     "text": [
      "record_ID          0\n",
      "store_id           0\n",
      "sku_id             0\n",
      "total_price        1\n",
      "base_price         0\n",
      "is_featured_sku    0\n",
      "is_display_sku     0\n",
      "units_sold         0\n",
      "day                0\n",
      "month              0\n",
      "year               0\n",
      "dtype: int64\n"
     ]
    }
   ],
   "source": [
    "print(df.isnull().sum())\n"
   ]
  },
  {
   "cell_type": "code",
   "execution_count": 13,
   "id": "52262d5f",
   "metadata": {
    "execution": {
     "iopub.execute_input": "2025-05-23T01:33:34.809167Z",
     "iopub.status.busy": "2025-05-23T01:33:34.808860Z",
     "iopub.status.idle": "2025-05-23T01:33:34.916047Z",
     "shell.execute_reply": "2025-05-23T01:33:34.915020Z"
    },
    "papermill": {
     "duration": 0.117702,
     "end_time": "2025-05-23T01:33:34.917540",
     "exception": false,
     "start_time": "2025-05-23T01:33:34.799838",
     "status": "completed"
    },
    "tags": []
   },
   "outputs": [
    {
     "name": "stdout",
     "output_type": "stream",
     "text": [
      "record_ID          0\n",
      "store_id           0\n",
      "sku_id             0\n",
      "total_price        0\n",
      "base_price         0\n",
      "is_featured_sku    0\n",
      "is_display_sku     0\n",
      "units_sold         0\n",
      "day                0\n",
      "month              0\n",
      "year               0\n",
      "dtype: int64\n"
     ]
    }
   ],
   "source": [
    "df = df.dropna()\n",
    "print(df.isnull().sum())\n"
   ]
  },
  {
   "cell_type": "code",
   "execution_count": 14,
   "id": "63703c8b",
   "metadata": {
    "execution": {
     "iopub.execute_input": "2025-05-23T01:33:34.935245Z",
     "iopub.status.busy": "2025-05-23T01:33:34.934912Z",
     "iopub.status.idle": "2025-05-23T01:33:34.942014Z",
     "shell.execute_reply": "2025-05-23T01:33:34.941081Z"
    },
    "papermill": {
     "duration": 0.017568,
     "end_time": "2025-05-23T01:33:34.943467",
     "exception": false,
     "start_time": "2025-05-23T01:33:34.925899",
     "status": "completed"
    },
    "tags": []
   },
   "outputs": [
    {
     "name": "stdout",
     "output_type": "stream",
     "text": [
      "Total units sold: 7758881\n",
      "Average units sold per record: 51.674543287001576\n",
      "Max units sold in a record: 2876\n",
      "Min units sold in a record: 1\n"
     ]
    }
   ],
   "source": [
    "print(\"Total units sold:\", df['units_sold'].sum())\n",
    "print(\"Average units sold per record:\", df['units_sold'].mean())\n",
    "print(\"Max units sold in a record:\", df['units_sold'].max())\n",
    "print(\"Min units sold in a record:\", df['units_sold'].min())\n"
   ]
  },
  {
   "cell_type": "code",
   "execution_count": 15,
   "id": "4e8c84f8",
   "metadata": {
    "execution": {
     "iopub.execute_input": "2025-05-23T01:33:34.961594Z",
     "iopub.status.busy": "2025-05-23T01:33:34.960941Z",
     "iopub.status.idle": "2025-05-23T01:33:34.970081Z",
     "shell.execute_reply": "2025-05-23T01:33:34.969231Z"
    },
    "papermill": {
     "duration": 0.01955,
     "end_time": "2025-05-23T01:33:34.971440",
     "exception": false,
     "start_time": "2025-05-23T01:33:34.951890",
     "status": "completed"
    },
    "tags": []
   },
   "outputs": [
    {
     "name": "stdout",
     "output_type": "stream",
     "text": [
      "store_id\n",
      "8023    296478\n",
      "9845    261410\n",
      "9823    233846\n",
      "9112    218127\n",
      "9613    205710\n",
      "         ...  \n",
      "8555     34766\n",
      "8392     30968\n",
      "9178     27572\n",
      "9700     13154\n",
      "9001      6053\n",
      "Name: units_sold, Length: 76, dtype: int64\n"
     ]
    }
   ],
   "source": [
    "store_sales = df.groupby('store_id')['units_sold'].sum().sort_values(ascending=False)\n",
    "print(store_sales)\n"
   ]
  },
  {
   "cell_type": "code",
   "execution_count": 16,
   "id": "f583490b",
   "metadata": {
    "execution": {
     "iopub.execute_input": "2025-05-23T01:33:34.989493Z",
     "iopub.status.busy": "2025-05-23T01:33:34.989125Z",
     "iopub.status.idle": "2025-05-23T01:33:36.087578Z",
     "shell.execute_reply": "2025-05-23T01:33:36.086640Z"
    },
    "papermill": {
     "duration": 1.109103,
     "end_time": "2025-05-23T01:33:36.089146",
     "exception": false,
     "start_time": "2025-05-23T01:33:34.980043",
     "status": "completed"
    },
    "tags": []
   },
   "outputs": [
    {
     "name": "stderr",
     "output_type": "stream",
     "text": [
      "/usr/local/lib/python3.11/dist-packages/seaborn/_oldcore.py:1119: FutureWarning: use_inf_as_na option is deprecated and will be removed in a future version. Convert inf values to NaN before operating instead.\n",
      "  with pd.option_context('mode.use_inf_as_na', True):\n"
     ]
    },
    {
     "data": {
      "image/png": "[encoded data removed]",
      "text/plain": [
       "<Figure size 1200x700 with 1 Axes>"
      ]
     },
     "metadata": {},
     "output_type": "display_data"
    }
   ],
   "source": [
    "import matplotlib.pyplot as plt\n",
    "import seaborn as sns\n",
    "\n",
    "plt.figure(figsize=(12, 7))  # Increase the figure size (width x height)\n",
    "sns.histplot(df['units_sold'], bins=30, kde=True, color='skyblue')\n",
    "\n",
    "plt.title('Distribution of Units Sold', fontsize=18)\n",
    "plt.xlabel('Units Sold', fontsize=14)\n",
    "plt.ylabel('Frequency', fontsize=14)\n",
    "\n",
    "plt.xticks(fontsize=12)\n",
    "plt.yticks(fontsize=12)\n",
    "\n",
    "plt.grid(axis='y', linestyle='--', alpha=0.7)  # Add horizontal grid lines for better readability\n",
    "\n",
    "plt.tight_layout()  # Adjust layout to prevent clipping of labels/titles\n",
    "plt.show()\n"
   ]
  },
  {
   "cell_type": "code",
   "execution_count": 17,
   "id": "629219ad",
   "metadata": {
    "execution": {
     "iopub.execute_input": "2025-05-23T01:33:36.109216Z",
     "iopub.status.busy": "2025-05-23T01:33:36.108891Z",
     "iopub.status.idle": "2025-05-23T01:33:36.793562Z",
     "shell.execute_reply": "2025-05-23T01:33:36.792503Z"
    },
    "papermill": {
     "duration": 0.697731,
     "end_time": "2025-05-23T01:33:36.796681",
     "exception": false,
     "start_time": "2025-05-23T01:33:36.098950",
     "status": "completed"
    },
    "tags": []
   },
   "outputs": [
    {
     "data": {
      "image/png": "[encoded data removed]",
      "text/plain": [
       "<Figure size 1200x1000 with 2 Axes>"
      ]
     },
     "metadata": {},
     "output_type": "display_data"
    }
   ],
   "source": [
    "import matplotlib.pyplot as plt\n",
    "import seaborn as sns\n",
    "\n",
    "plt.figure(figsize=(12, 10))  # Bigger figure\n",
    "corr = df.corr()\n",
    "\n",
    "sns.heatmap(\n",
    "    corr,\n",
    "    annot=True,\n",
    "    fmt=\".2f\",\n",
    "    cmap='coolwarm',\n",
    "    linewidths=0.5,\n",
    "    linecolor='gray',\n",
    "    square=True,\n",
    "    cbar=True,\n",
    "    annot_kws={\"size\": 10}\n",
    ")\n",
    "\n",
    "plt.xticks(rotation=45, ha='right', fontsize=12)\n",
    "plt.yticks(rotation=0, fontsize=12)\n",
    "plt.title('Correlation Matrix', fontsize=16)\n",
    "plt.tight_layout()\n",
    "plt.show()\n"
   ]
  },
  {
   "cell_type": "code",
   "execution_count": 18,
   "id": "a657254d",
   "metadata": {
    "execution": {
     "iopub.execute_input": "2025-05-23T01:33:36.884428Z",
     "iopub.status.busy": "2025-05-23T01:33:36.883700Z",
     "iopub.status.idle": "2025-05-23T01:33:36.963133Z",
     "shell.execute_reply": "2025-05-23T01:33:36.962413Z"
    },
    "papermill": {
     "duration": 0.093427,
     "end_time": "2025-05-23T01:33:36.964683",
     "exception": false,
     "start_time": "2025-05-23T01:33:36.871256",
     "status": "completed"
    },
    "tags": []
   },
   "outputs": [],
   "source": [
    "from sklearn.ensemble import RandomForestRegressor\n",
    "from sklearn.model_selection import train_test_split\n",
    "\n",
    "X = df.drop(columns='units_sold', axis=1)\n",
    "y = df['units_sold']\n",
    "\n",
    "X_train, X_test, y_train, y_test = train_test_split(X,\n",
    "                                                  y,\n",
    "                                                  test_size=0.2,\n",
    "                                                  random_state=42)\n"
   ]
  },
  {
   "cell_type": "code",
   "execution_count": 19,
   "id": "e049f770",
   "metadata": {
    "execution": {
     "iopub.execute_input": "2025-05-23T01:33:36.988931Z",
     "iopub.status.busy": "2025-05-23T01:33:36.988249Z",
     "iopub.status.idle": "2025-05-23T01:34:02.477849Z",
     "shell.execute_reply": "2025-05-23T01:34:02.476821Z"
    },
    "papermill": {
     "duration": 25.503193,
     "end_time": "2025-05-23T01:34:02.479283",
     "exception": false,
     "start_time": "2025-05-23T01:33:36.976090",
     "status": "completed"
    },
    "tags": []
   },
   "outputs": [
    {
     "data": {
      "text/html": [
       "<style>#sk-container-id-1 {color: black;background-color: white;}#sk-container-id-1 pre{padding: 0;}#sk-container-id-1 div.sk-toggleable {background-color: white;}#sk-container-id-1 label.sk-toggleable__label {cursor: pointer;display: block;width: 100%;margin-bottom: 0;padding: 0.3em;box-sizing: border-box;text-align: center;}#sk-container-id-1 label.sk-toggleable__label-arrow:before {content: \"▸\";float: left;margin-right: 0.25em;color: #696969;}#sk-container-id-1 label.sk-toggleable__label-arrow:hover:before {color: black;}#sk-container-id-1 div.sk-estimator:hover label.sk-toggleable__label-arrow:before {color: black;}#sk-container-id-1 div.sk-toggleable__content {max-height: 0;max-width: 0;overflow: hidden;text-align: left;background-color: #f0f8ff;}#sk-container-id-1 div.sk-toggleable__content pre {margin: 0.2em;color: black;border-radius: 0.25em;background-color: #f0f8ff;}#sk-container-id-1 input.sk-toggleable__control:checked~div.sk-toggleable__content {max-height: 200px;max-width: 100%;overflow: auto;}#sk-container-id-1 input.sk-toggleable__control:checked~label.sk-toggleable__label-arrow:before {content: \"▾\";}#sk-container-id-1 div.sk-estimator input.sk-toggleable__control:checked~label.sk-toggleable__label {background-color: #d4ebff;}#sk-container-id-1 div.sk-label input.sk-toggleable__control:checked~label.sk-toggleable__label {background-color: #d4ebff;}#sk-container-id-1 input.sk-hidden--visually {border: 0;clip: rect(1px 1px 1px 1px);clip: rect(1px, 1px, 1px, 1px);height: 1px;margin: -1px;overflow: hidden;padding: 0;position: absolute;width: 1px;}#sk-container-id-1 div.sk-estimator {font-family: monospace;background-color: #f0f8ff;border: 1px dotted black;border-radius: 0.25em;box-sizing: border-box;margin-bottom: 0.5em;}#sk-container-id-1 div.sk-estimator:hover {background-color: #d4ebff;}#sk-container-id-1 div.sk-parallel-item::after {content: \"\";width: 100%;border-bottom: 1px solid gray;flex-grow: 1;}#sk-container-id-1 div.sk-label:hover label.sk-toggleable__label {background-color: #d4ebff;}#sk-container-id-1 div.sk-serial::before {content: \"\";position: absolute;border-left: 1px solid gray;box-sizing: border-box;top: 0;bottom: 0;left: 50%;z-index: 0;}#sk-container-id-1 div.sk-serial {display: flex;flex-direction: column;align-items: center;background-color: white;padding-right: 0.2em;padding-left: 0.2em;position: relative;}#sk-container-id-1 div.sk-item {position: relative;z-index: 1;}#sk-container-id-1 div.sk-parallel {display: flex;align-items: stretch;justify-content: center;background-color: white;position: relative;}#sk-container-id-1 div.sk-item::before, #sk-container-id-1 div.sk-parallel-item::before {content: \"\";position: absolute;border-left: 1px solid gray;box-sizing: border-box;top: 0;bottom: 0;left: 50%;z-index: -1;}#sk-container-id-1 div.sk-parallel-item {display: flex;flex-direction: column;z-index: 1;position: relative;background-color: white;}#sk-container-id-1 div.sk-parallel-item:first-child::after {align-self: flex-end;width: 50%;}#sk-container-id-1 div.sk-parallel-item:last-child::after {align-self: flex-start;width: 50%;}#sk-container-id-1 div.sk-parallel-item:only-child::after {width: 0;}#sk-container-id-1 div.sk-dashed-wrapped {border: 1px dashed gray;margin: 0 0.4em 0.5em 0.4em;box-sizing: border-box;padding-bottom: 0.4em;background-color: white;}#sk-container-id-1 div.sk-label label {font-family: monospace;font-weight: bold;display: inline-block;line-height: 1.2em;}#sk-container-id-1 div.sk-label-container {text-align: center;}#sk-container-id-1 div.sk-container {/* jupyter's `normalize.less` sets `[hidden] { display: none; }` but bootstrap.min.css set `[hidden] { display: none !important; }` so we also need the `!important` here to be able to override the default hidden behavior on the sphinx rendered scikit-learn.org. See: https://github.com/scikit-learn/scikit-learn/issues/21755 */display: inline-block !important;position: relative;}#sk-container-id-1 div.sk-text-repr-fallback {display: none;}</style><div id=\"sk-container-id-1\" class=\"sk-top-container\"><div class=\"sk-text-repr-fallback\"><pre>RandomForestRegressor(n_jobs=-1)</pre><b>In a Jupyter environment, please rerun this cell to show the HTML representation or trust the notebook. <br />On GitHub, the HTML representation is unable to render, please try loading this page with nbviewer.org.</b></div><div class=\"sk-container\" hidden><div class=\"sk-item\"><div class=\"sk-estimator sk-toggleable\"><input class=\"sk-toggleable__control sk-hidden--visually\" id=\"sk-estimator-id-1\" type=\"checkbox\" checked><label for=\"sk-estimator-id-1\" class=\"sk-toggleable__label sk-toggleable__label-arrow\">RandomForestRegressor</label><div class=\"sk-toggleable__content\"><pre>RandomForestRegressor(n_jobs=-1)</pre></div></div></div></div></div>"
      ],
      "text/plain": [
       "RandomForestRegressor(n_jobs=-1)"
      ]
     },
     "execution_count": 19,
     "metadata": {},
     "output_type": "execute_result"
    }
   ],
   "source": [
    "model=RandomForestRegressor(n_jobs=-1)\n",
    "model.fit(X_train,y_train)"
   ]
  },
  {
   "cell_type": "code",
   "execution_count": 20,
   "id": "02393ecd",
   "metadata": {
    "execution": {
     "iopub.execute_input": "2025-05-23T01:34:02.505403Z",
     "iopub.status.busy": "2025-05-23T01:34:02.504664Z",
     "iopub.status.idle": "2025-05-23T01:34:03.235008Z",
     "shell.execute_reply": "2025-05-23T01:34:03.234316Z"
    },
    "papermill": {
     "duration": 0.744772,
     "end_time": "2025-05-23T01:34:03.236400",
     "exception": false,
     "start_time": "2025-05-23T01:34:02.491628",
     "status": "completed"
    },
    "tags": []
   },
   "outputs": [
    {
     "data": {
      "text/plain": [
       "0.7683247225002038"
      ]
     },
     "execution_count": 20,
     "metadata": {},
     "output_type": "execute_result"
    }
   ],
   "source": [
    "model.score(X_test,y_test)"
   ]
  },
  {
   "cell_type": "code",
   "execution_count": 21,
   "id": "9366ac38",
   "metadata": {
    "execution": {
     "iopub.execute_input": "2025-05-23T01:34:03.262083Z",
     "iopub.status.busy": "2025-05-23T01:34:03.261746Z",
     "iopub.status.idle": "2025-05-23T01:34:03.790977Z",
     "shell.execute_reply": "2025-05-23T01:34:03.789772Z"
    },
    "papermill": {
     "duration": 0.543806,
     "end_time": "2025-05-23T01:34:03.792514",
     "exception": false,
     "start_time": "2025-05-23T01:34:03.248708",
     "status": "completed"
    },
    "tags": []
   },
   "outputs": [
    {
     "name": "stdout",
     "output_type": "stream",
     "text": [
      "RMSE: 27.534\n"
     ]
    }
   ],
   "source": [
    "\n",
    "from sklearn.metrics import mean_squared_error\n",
    "import numpy as np\n",
    "\n",
    "y_pred = model.predict(X_test)\n",
    "rmse = np.sqrt(mean_squared_error(y_test, y_pred))\n",
    "print(f\"RMSE: {rmse:.3f}\")\n"
   ]
  },
  {
   "cell_type": "code",
   "execution_count": 22,
   "id": "60a7d349",
   "metadata": {
    "execution": {
     "iopub.execute_input": "2025-05-23T01:34:03.818382Z",
     "iopub.status.busy": "2025-05-23T01:34:03.817861Z",
     "iopub.status.idle": "2025-05-23T01:34:03.831473Z",
     "shell.execute_reply": "2025-05-23T01:34:03.830729Z"
    },
    "papermill": {
     "duration": 0.027758,
     "end_time": "2025-05-23T01:34:03.832734",
     "exception": false,
     "start_time": "2025-05-23T01:34:03.804976",
     "status": "completed"
    },
    "tags": []
   },
   "outputs": [
    {
     "data": {
      "text/plain": [
       "count    150149.000000\n",
       "mean         51.674543\n",
       "std          60.207962\n",
       "min           1.000000\n",
       "25%          20.000000\n",
       "50%          35.000000\n",
       "75%          62.000000\n",
       "max        2876.000000\n",
       "Name: units_sold, dtype: float64"
      ]
     },
     "execution_count": 22,
     "metadata": {},
     "output_type": "execute_result"
    }
   ],
   "source": [
    "df.units_sold.describe()"
   ]
  },
  {
   "cell_type": "code",
   "execution_count": 23,
   "id": "58b87902",
   "metadata": {
    "execution": {
     "iopub.execute_input": "2025-05-23T01:34:03.858921Z",
     "iopub.status.busy": "2025-05-23T01:34:03.858191Z",
     "iopub.status.idle": "2025-05-23T01:34:04.092347Z",
     "shell.execute_reply": "2025-05-23T01:34:04.091439Z"
    },
    "papermill": {
     "duration": 0.248808,
     "end_time": "2025-05-23T01:34:04.093829",
     "exception": false,
     "start_time": "2025-05-23T01:34:03.845021",
     "status": "completed"
    },
    "tags": []
   },
   "outputs": [
    {
     "data": {
      "text/plain": [
       "<Axes: >"
      ]
     },
     "execution_count": 23,
     "metadata": {},
     "output_type": "execute_result"
    },
    {
     "data": {
      "image/png": "[encoded data removed]",
      "text/plain": [
       "<Figure size 640x480 with 1 Axes>"
      ]
     },
     "metadata": {},
     "output_type": "display_data"
    }
   ],
   "source": [
    "df.units_sold.hist()"
   ]
  },
  {
   "cell_type": "code",
   "execution_count": 24,
   "id": "a93f47be",
   "metadata": {
    "execution": {
     "iopub.execute_input": "2025-05-23T01:34:04.121061Z",
     "iopub.status.busy": "2025-05-23T01:34:04.120735Z",
     "iopub.status.idle": "2025-05-23T01:34:04.409915Z",
     "shell.execute_reply": "2025-05-23T01:34:04.409049Z"
    },
    "papermill": {
     "duration": 0.304647,
     "end_time": "2025-05-23T01:34:04.411430",
     "exception": false,
     "start_time": "2025-05-23T01:34:04.106783",
     "status": "completed"
    },
    "tags": []
   },
   "outputs": [
    {
     "data": {
      "text/plain": [
       "[<matplotlib.lines.Line2D at 0x7e3b4f832910>]"
      ]
     },
     "execution_count": 24,
     "metadata": {},
     "output_type": "execute_result"
    },
    {
     "data": {
      "image/png": "[encoded data removed]",
      "text/plain": [
       "<Figure size 640x480 with 1 Axes>"
      ]
     },
     "metadata": {},
     "output_type": "display_data"
    }
   ],
   "source": [
    "import numpy as np \n",
    "import matplotlib.pyplot as plt\n",
    "\n",
    "plt.scatter(y_pred,y_test)\n",
    "plt.plot(np.linspace(y_pred.min(),y_pred.max()),np.linspace(y_test.min(),y_test.max()),color=\"red\")"
   ]
  },
  {
   "cell_type": "code",
   "execution_count": 25,
   "id": "fbb41ce8",
   "metadata": {
    "execution": {
     "iopub.execute_input": "2025-05-23T01:34:04.440165Z",
     "iopub.status.busy": "2025-05-23T01:34:04.439866Z",
     "iopub.status.idle": "2025-05-23T01:34:05.532315Z",
     "shell.execute_reply": "2025-05-23T01:34:05.531305Z"
    },
    "papermill": {
     "duration": 1.108585,
     "end_time": "2025-05-23T01:34:05.533963",
     "exception": false,
     "start_time": "2025-05-23T01:34:04.425378",
     "status": "completed"
    },
    "tags": []
   },
   "outputs": [
    {
     "data": {
      "image/png": "[encoded data removed]",
      "text/plain": [
       "<Figure size 1500x800 with 9 Axes>"
      ]
     },
     "metadata": {},
     "output_type": "display_data"
    }
   ],
   "source": [
    "df.hist(figsize=(15,8))\n",
    "plt.show()"
   ]
  },
  {
   "cell_type": "code",
   "execution_count": 26,
   "id": "029f2ce5",
   "metadata": {
    "execution": {
     "iopub.execute_input": "2025-05-23T01:34:05.566015Z",
     "iopub.status.busy": "2025-05-23T01:34:05.565683Z",
     "iopub.status.idle": "2025-05-23T01:34:05.597967Z",
     "shell.execute_reply": "2025-05-23T01:34:05.596893Z"
    },
    "papermill": {
     "duration": 0.04995,
     "end_time": "2025-05-23T01:34:05.599565",
     "exception": false,
     "start_time": "2025-05-23T01:34:05.549615",
     "status": "completed"
    },
    "tags": []
   },
   "outputs": [],
   "source": [
    "df=df.drop(\"record_ID\",axis=1)"
   ]
  },
  {
   "cell_type": "code",
   "execution_count": 27,
   "id": "56c10c5f",
   "metadata": {
    "execution": {
     "iopub.execute_input": "2025-05-23T01:34:05.630388Z",
     "iopub.status.busy": "2025-05-23T01:34:05.630055Z",
     "iopub.status.idle": "2025-05-23T01:34:05.637451Z",
     "shell.execute_reply": "2025-05-23T01:34:05.636799Z"
    },
    "papermill": {
     "duration": 0.024286,
     "end_time": "2025-05-23T01:34:05.638830",
     "exception": false,
     "start_time": "2025-05-23T01:34:05.614544",
     "status": "completed"
    },
    "tags": []
   },
   "outputs": [
    {
     "data": {
      "text/plain": [
       "76"
      ]
     },
     "execution_count": 27,
     "metadata": {},
     "output_type": "execute_result"
    }
   ],
   "source": [
    "len(df.store_id.unique())"
   ]
  },
  {
   "cell_type": "code",
   "execution_count": 28,
   "id": "533d3f76",
   "metadata": {
    "execution": {
     "iopub.execute_input": "2025-05-23T01:34:05.670265Z",
     "iopub.status.busy": "2025-05-23T01:34:05.669952Z",
     "iopub.status.idle": "2025-05-23T01:34:05.675714Z",
     "shell.execute_reply": "2025-05-23T01:34:05.675042Z"
    },
    "papermill": {
     "duration": 0.023011,
     "end_time": "2025-05-23T01:34:05.676902",
     "exception": false,
     "start_time": "2025-05-23T01:34:05.653891",
     "status": "completed"
    },
    "tags": []
   },
   "outputs": [
    {
     "data": {
      "text/plain": [
       "28"
      ]
     },
     "execution_count": 28,
     "metadata": {},
     "output_type": "execute_result"
    }
   ],
   "source": [
    "len(df.sku_id.unique())"
   ]
  },
  {
   "cell_type": "code",
   "execution_count": 29,
   "id": "1453732b",
   "metadata": {
    "execution": {
     "iopub.execute_input": "2025-05-23T01:34:05.708636Z",
     "iopub.status.busy": "2025-05-23T01:34:05.708306Z",
     "iopub.status.idle": "2025-05-23T01:34:05.720977Z",
     "shell.execute_reply": "2025-05-23T01:34:05.720306Z"
    },
    "papermill": {
     "duration": 0.030377,
     "end_time": "2025-05-23T01:34:05.722294",
     "exception": false,
     "start_time": "2025-05-23T01:34:05.691917",
     "status": "completed"
    },
    "tags": []
   },
   "outputs": [
    {
     "data": {
      "text/plain": [
       "count    150149.000000\n",
       "mean         51.674543\n",
       "std          60.207962\n",
       "min           1.000000\n",
       "25%          20.000000\n",
       "50%          35.000000\n",
       "75%          62.000000\n",
       "max        2876.000000\n",
       "Name: units_sold, dtype: float64"
      ]
     },
     "execution_count": 29,
     "metadata": {},
     "output_type": "execute_result"
    }
   ],
   "source": [
    "df.units_sold.describe()"
   ]
  },
  {
   "cell_type": "code",
   "execution_count": 30,
   "id": "e0595f54",
   "metadata": {
    "execution": {
     "iopub.execute_input": "2025-05-23T01:34:05.754719Z",
     "iopub.status.busy": "2025-05-23T01:34:05.754353Z",
     "iopub.status.idle": "2025-05-23T01:34:05.763120Z",
     "shell.execute_reply": "2025-05-23T01:34:05.762305Z"
    },
    "papermill": {
     "duration": 0.027271,
     "end_time": "2025-05-23T01:34:05.764639",
     "exception": false,
     "start_time": "2025-05-23T01:34:05.737368",
     "status": "completed"
    },
    "tags": []
   },
   "outputs": [
    {
     "data": {
      "text/plain": [
       "283.0"
      ]
     },
     "execution_count": 30,
     "metadata": {},
     "output_type": "execute_result"
    }
   ],
   "source": [
    "df.units_sold.quantile(0.99)"
   ]
  },
  {
   "cell_type": "code",
   "execution_count": 31,
   "id": "ac30c3aa",
   "metadata": {
    "execution": {
     "iopub.execute_input": "2025-05-23T01:34:05.796163Z",
     "iopub.status.busy": "2025-05-23T01:34:05.795872Z",
     "iopub.status.idle": "2025-05-23T01:34:05.830911Z",
     "shell.execute_reply": "2025-05-23T01:34:05.830101Z"
    },
    "papermill": {
     "duration": 0.052744,
     "end_time": "2025-05-23T01:34:05.832557",
     "exception": false,
     "start_time": "2025-05-23T01:34:05.779813",
     "status": "completed"
    },
    "tags": []
   },
   "outputs": [],
   "source": [
    "df=df[df.units_sold<df.units_sold.quantile(0.99)]"
   ]
  },
  {
   "cell_type": "code",
   "execution_count": 32,
   "id": "e018f59d",
   "metadata": {
    "execution": {
     "iopub.execute_input": "2025-05-23T01:34:05.866134Z",
     "iopub.status.busy": "2025-05-23T01:34:05.865473Z",
     "iopub.status.idle": "2025-05-23T01:34:06.034084Z",
     "shell.execute_reply": "2025-05-23T01:34:06.033193Z"
    },
    "papermill": {
     "duration": 0.187076,
     "end_time": "2025-05-23T01:34:06.035625",
     "exception": false,
     "start_time": "2025-05-23T01:34:05.848549",
     "status": "completed"
    },
    "tags": []
   },
   "outputs": [
    {
     "data": {
      "text/plain": [
       "<Axes: >"
      ]
     },
     "execution_count": 32,
     "metadata": {},
     "output_type": "execute_result"
    },
    {
     "data": {
      "image/png": "[encoded data removed]",
      "text/plain": [
       "<Figure size 640x480 with 1 Axes>"
      ]
     },
     "metadata": {},
     "output_type": "display_data"
    }
   ],
   "source": [
    "df.units_sold.hist()"
   ]
  },
  {
   "cell_type": "code",
   "execution_count": 33,
   "id": "fca10d30",
   "metadata": {
    "execution": {
     "iopub.execute_input": "2025-05-23T01:34:06.069192Z",
     "iopub.status.busy": "2025-05-23T01:34:06.068472Z",
     "iopub.status.idle": "2025-05-23T01:34:06.238821Z",
     "shell.execute_reply": "2025-05-23T01:34:06.237856Z"
    },
    "papermill": {
     "duration": 0.189137,
     "end_time": "2025-05-23T01:34:06.240495",
     "exception": false,
     "start_time": "2025-05-23T01:34:06.051358",
     "status": "completed"
    },
    "tags": []
   },
   "outputs": [],
   "source": [
    "df=df.join(pd.get_dummies(df.store_id,prefix=\"store\")).drop(\"store_id\",axis=1)\n",
    "df=df.join(pd.get_dummies(df.sku_id,prefix=\"item\")).drop(\"sku_id\",axis=1)"
   ]
  },
  {
   "cell_type": "code",
   "execution_count": 34,
   "id": "6aaa2120",
   "metadata": {
    "execution": {
     "iopub.execute_input": "2025-05-23T01:34:06.273662Z",
     "iopub.status.busy": "2025-05-23T01:34:06.273307Z",
     "iopub.status.idle": "2025-05-23T01:34:06.357242Z",
     "shell.execute_reply": "2025-05-23T01:34:06.356425Z"
    },
    "papermill": {
     "duration": 0.102455,
     "end_time": "2025-05-23T01:34:06.358776",
     "exception": false,
     "start_time": "2025-05-23T01:34:06.256321",
     "status": "completed"
    },
    "tags": []
   },
   "outputs": [
    {
     "data": {
      "text/html": [
       "<div>\n",
       "<style scoped>\n",
       "    .dataframe tbody tr th:only-of-type {\n",
       "        vertical-align: middle;\n",
       "    }\n",
       "\n",
       "    .dataframe tbody tr th {\n",
       "        vertical-align: top;\n",
       "    }\n",
       "\n",
       "    .dataframe thead th {\n",
       "        text-align: right;\n",
       "    }\n",
       "</style>\n",
       "<table border=\"1\" class=\"dataframe\">\n",
       "  <thead>\n",
       "    <tr style=\"text-align: right;\">\n",
       "      <th></th>\n",
       "      <th>total_price</th>\n",
       "      <th>base_price</th>\n",
       "      <th>is_featured_sku</th>\n",
       "      <th>is_display_sku</th>\n",
       "      <th>units_sold</th>\n",
       "      <th>day</th>\n",
       "      <th>month</th>\n",
       "      <th>year</th>\n",
       "      <th>store_8023</th>\n",
       "      <th>store_8058</th>\n",
       "      <th>...</th>\n",
       "      <th>item_320485</th>\n",
       "      <th>item_327492</th>\n",
       "      <th>item_378934</th>\n",
       "      <th>item_398721</th>\n",
       "      <th>item_545621</th>\n",
       "      <th>item_546789</th>\n",
       "      <th>item_547934</th>\n",
       "      <th>item_600934</th>\n",
       "      <th>item_673209</th>\n",
       "      <th>item_679023</th>\n",
       "    </tr>\n",
       "  </thead>\n",
       "  <tbody>\n",
       "    <tr>\n",
       "      <th>0</th>\n",
       "      <td>99.0375</td>\n",
       "      <td>111.8625</td>\n",
       "      <td>0</td>\n",
       "      <td>0</td>\n",
       "      <td>20</td>\n",
       "      <td>17</td>\n",
       "      <td>01</td>\n",
       "      <td>11</td>\n",
       "      <td>False</td>\n",
       "      <td>False</td>\n",
       "      <td>...</td>\n",
       "      <td>False</td>\n",
       "      <td>False</td>\n",
       "      <td>False</td>\n",
       "      <td>False</td>\n",
       "      <td>False</td>\n",
       "      <td>False</td>\n",
       "      <td>False</td>\n",
       "      <td>False</td>\n",
       "      <td>False</td>\n",
       "      <td>False</td>\n",
       "    </tr>\n",
       "    <tr>\n",
       "      <th>1</th>\n",
       "      <td>99.0375</td>\n",
       "      <td>99.0375</td>\n",
       "      <td>0</td>\n",
       "      <td>0</td>\n",
       "      <td>28</td>\n",
       "      <td>17</td>\n",
       "      <td>01</td>\n",
       "      <td>11</td>\n",
       "      <td>False</td>\n",
       "      <td>False</td>\n",
       "      <td>...</td>\n",
       "      <td>False</td>\n",
       "      <td>False</td>\n",
       "      <td>False</td>\n",
       "      <td>False</td>\n",
       "      <td>False</td>\n",
       "      <td>False</td>\n",
       "      <td>False</td>\n",
       "      <td>False</td>\n",
       "      <td>False</td>\n",
       "      <td>False</td>\n",
       "    </tr>\n",
       "    <tr>\n",
       "      <th>2</th>\n",
       "      <td>133.9500</td>\n",
       "      <td>133.9500</td>\n",
       "      <td>0</td>\n",
       "      <td>0</td>\n",
       "      <td>19</td>\n",
       "      <td>17</td>\n",
       "      <td>01</td>\n",
       "      <td>11</td>\n",
       "      <td>False</td>\n",
       "      <td>False</td>\n",
       "      <td>...</td>\n",
       "      <td>False</td>\n",
       "      <td>False</td>\n",
       "      <td>False</td>\n",
       "      <td>False</td>\n",
       "      <td>False</td>\n",
       "      <td>False</td>\n",
       "      <td>False</td>\n",
       "      <td>False</td>\n",
       "      <td>False</td>\n",
       "      <td>False</td>\n",
       "    </tr>\n",
       "    <tr>\n",
       "      <th>3</th>\n",
       "      <td>133.9500</td>\n",
       "      <td>133.9500</td>\n",
       "      <td>0</td>\n",
       "      <td>0</td>\n",
       "      <td>44</td>\n",
       "      <td>17</td>\n",
       "      <td>01</td>\n",
       "      <td>11</td>\n",
       "      <td>False</td>\n",
       "      <td>False</td>\n",
       "      <td>...</td>\n",
       "      <td>False</td>\n",
       "      <td>False</td>\n",
       "      <td>False</td>\n",
       "      <td>False</td>\n",
       "      <td>False</td>\n",
       "      <td>False</td>\n",
       "      <td>False</td>\n",
       "      <td>False</td>\n",
       "      <td>False</td>\n",
       "      <td>False</td>\n",
       "    </tr>\n",
       "    <tr>\n",
       "      <th>4</th>\n",
       "      <td>141.0750</td>\n",
       "      <td>141.0750</td>\n",
       "      <td>0</td>\n",
       "      <td>0</td>\n",
       "      <td>52</td>\n",
       "      <td>17</td>\n",
       "      <td>01</td>\n",
       "      <td>11</td>\n",
       "      <td>False</td>\n",
       "      <td>False</td>\n",
       "      <td>...</td>\n",
       "      <td>False</td>\n",
       "      <td>False</td>\n",
       "      <td>False</td>\n",
       "      <td>False</td>\n",
       "      <td>False</td>\n",
       "      <td>False</td>\n",
       "      <td>False</td>\n",
       "      <td>False</td>\n",
       "      <td>False</td>\n",
       "      <td>False</td>\n",
       "    </tr>\n",
       "    <tr>\n",
       "      <th>...</th>\n",
       "      <td>...</td>\n",
       "      <td>...</td>\n",
       "      <td>...</td>\n",
       "      <td>...</td>\n",
       "      <td>...</td>\n",
       "      <td>...</td>\n",
       "      <td>...</td>\n",
       "      <td>...</td>\n",
       "      <td>...</td>\n",
       "      <td>...</td>\n",
       "      <td>...</td>\n",
       "      <td>...</td>\n",
       "      <td>...</td>\n",
       "      <td>...</td>\n",
       "      <td>...</td>\n",
       "      <td>...</td>\n",
       "      <td>...</td>\n",
       "      <td>...</td>\n",
       "      <td>...</td>\n",
       "      <td>...</td>\n",
       "      <td>...</td>\n",
       "    </tr>\n",
       "    <tr>\n",
       "      <th>150145</th>\n",
       "      <td>235.8375</td>\n",
       "      <td>235.8375</td>\n",
       "      <td>0</td>\n",
       "      <td>0</td>\n",
       "      <td>38</td>\n",
       "      <td>09</td>\n",
       "      <td>07</td>\n",
       "      <td>13</td>\n",
       "      <td>False</td>\n",
       "      <td>False</td>\n",
       "      <td>...</td>\n",
       "      <td>False</td>\n",
       "      <td>False</td>\n",
       "      <td>False</td>\n",
       "      <td>False</td>\n",
       "      <td>False</td>\n",
       "      <td>False</td>\n",
       "      <td>False</td>\n",
       "      <td>False</td>\n",
       "      <td>False</td>\n",
       "      <td>False</td>\n",
       "    </tr>\n",
       "    <tr>\n",
       "      <th>150146</th>\n",
       "      <td>235.8375</td>\n",
       "      <td>235.8375</td>\n",
       "      <td>0</td>\n",
       "      <td>0</td>\n",
       "      <td>30</td>\n",
       "      <td>09</td>\n",
       "      <td>07</td>\n",
       "      <td>13</td>\n",
       "      <td>False</td>\n",
       "      <td>False</td>\n",
       "      <td>...</td>\n",
       "      <td>False</td>\n",
       "      <td>False</td>\n",
       "      <td>False</td>\n",
       "      <td>False</td>\n",
       "      <td>False</td>\n",
       "      <td>False</td>\n",
       "      <td>False</td>\n",
       "      <td>False</td>\n",
       "      <td>False</td>\n",
       "      <td>False</td>\n",
       "    </tr>\n",
       "    <tr>\n",
       "      <th>150147</th>\n",
       "      <td>357.6750</td>\n",
       "      <td>483.7875</td>\n",
       "      <td>1</td>\n",
       "      <td>1</td>\n",
       "      <td>31</td>\n",
       "      <td>09</td>\n",
       "      <td>07</td>\n",
       "      <td>13</td>\n",
       "      <td>False</td>\n",
       "      <td>False</td>\n",
       "      <td>...</td>\n",
       "      <td>False</td>\n",
       "      <td>False</td>\n",
       "      <td>False</td>\n",
       "      <td>False</td>\n",
       "      <td>False</td>\n",
       "      <td>False</td>\n",
       "      <td>False</td>\n",
       "      <td>False</td>\n",
       "      <td>False</td>\n",
       "      <td>False</td>\n",
       "    </tr>\n",
       "    <tr>\n",
       "      <th>150148</th>\n",
       "      <td>141.7875</td>\n",
       "      <td>191.6625</td>\n",
       "      <td>0</td>\n",
       "      <td>1</td>\n",
       "      <td>12</td>\n",
       "      <td>09</td>\n",
       "      <td>07</td>\n",
       "      <td>13</td>\n",
       "      <td>False</td>\n",
       "      <td>False</td>\n",
       "      <td>...</td>\n",
       "      <td>False</td>\n",
       "      <td>False</td>\n",
       "      <td>False</td>\n",
       "      <td>False</td>\n",
       "      <td>False</td>\n",
       "      <td>False</td>\n",
       "      <td>True</td>\n",
       "      <td>False</td>\n",
       "      <td>False</td>\n",
       "      <td>False</td>\n",
       "    </tr>\n",
       "    <tr>\n",
       "      <th>150149</th>\n",
       "      <td>234.4125</td>\n",
       "      <td>234.4125</td>\n",
       "      <td>0</td>\n",
       "      <td>0</td>\n",
       "      <td>15</td>\n",
       "      <td>09</td>\n",
       "      <td>07</td>\n",
       "      <td>13</td>\n",
       "      <td>False</td>\n",
       "      <td>False</td>\n",
       "      <td>...</td>\n",
       "      <td>False</td>\n",
       "      <td>False</td>\n",
       "      <td>False</td>\n",
       "      <td>False</td>\n",
       "      <td>False</td>\n",
       "      <td>False</td>\n",
       "      <td>False</td>\n",
       "      <td>False</td>\n",
       "      <td>False</td>\n",
       "      <td>True</td>\n",
       "    </tr>\n",
       "  </tbody>\n",
       "</table>\n",
       "<p>148635 rows × 112 columns</p>\n",
       "</div>"
      ],
      "text/plain": [
       "        total_price  base_price  is_featured_sku  is_display_sku  units_sold  \\\n",
       "0           99.0375    111.8625                0               0          20   \n",
       "1           99.0375     99.0375                0               0          28   \n",
       "2          133.9500    133.9500                0               0          19   \n",
       "3          133.9500    133.9500                0               0          44   \n",
       "4          141.0750    141.0750                0               0          52   \n",
       "...             ...         ...              ...             ...         ...   \n",
       "150145     235.8375    235.8375                0               0          38   \n",
       "150146     235.8375    235.8375                0               0          30   \n",
       "150147     357.6750    483.7875                1               1          31   \n",
       "150148     141.7875    191.6625                0               1          12   \n",
       "150149     234.4125    234.4125                0               0          15   \n",
       "\n",
       "       day month year  store_8023  store_8058  ...  item_320485  item_327492  \\\n",
       "0       17    01   11       False       False  ...        False        False   \n",
       "1       17    01   11       False       False  ...        False        False   \n",
       "2       17    01   11       False       False  ...        False        False   \n",
       "3       17    01   11       False       False  ...        False        False   \n",
       "4       17    01   11       False       False  ...        False        False   \n",
       "...     ..   ...  ...         ...         ...  ...          ...          ...   \n",
       "150145  09    07   13       False       False  ...        False        False   \n",
       "150146  09    07   13       False       False  ...        False        False   \n",
       "150147  09    07   13       False       False  ...        False        False   \n",
       "150148  09    07   13       False       False  ...        False        False   \n",
       "150149  09    07   13       False       False  ...        False        False   \n",
       "\n",
       "        item_378934  item_398721  item_545621  item_546789  item_547934  \\\n",
       "0             False        False        False        False        False   \n",
       "1             False        False        False        False        False   \n",
       "2             False        False        False        False        False   \n",
       "3             False        False        False        False        False   \n",
       "4             False        False        False        False        False   \n",
       "...             ...          ...          ...          ...          ...   \n",
       "150145        False        False        False        False        False   \n",
       "150146        False        False        False        False        False   \n",
       "150147        False        False        False        False        False   \n",
       "150148        False        False        False        False         True   \n",
       "150149        False        False        False        False        False   \n",
       "\n",
       "        item_600934  item_673209  item_679023  \n",
       "0             False        False        False  \n",
       "1             False        False        False  \n",
       "2             False        False        False  \n",
       "3             False        False        False  \n",
       "4             False        False        False  \n",
       "...             ...          ...          ...  \n",
       "150145        False        False        False  \n",
       "150146        False        False        False  \n",
       "150147        False        False        False  \n",
       "150148        False        False        False  \n",
       "150149        False        False         True  \n",
       "\n",
       "[148635 rows x 112 columns]"
      ]
     },
     "execution_count": 34,
     "metadata": {},
     "output_type": "execute_result"
    }
   ],
   "source": [
    "df"
   ]
  },
  {
   "cell_type": "code",
   "execution_count": 35,
   "id": "f97192f5",
   "metadata": {
    "execution": {
     "iopub.execute_input": "2025-05-23T01:34:06.392286Z",
     "iopub.status.busy": "2025-05-23T01:34:06.391973Z",
     "iopub.status.idle": "2025-05-23T01:34:06.494477Z",
     "shell.execute_reply": "2025-05-23T01:34:06.493480Z"
    },
    "papermill": {
     "duration": 0.120878,
     "end_time": "2025-05-23T01:34:06.496101",
     "exception": false,
     "start_time": "2025-05-23T01:34:06.375223",
     "status": "completed"
    },
    "tags": []
   },
   "outputs": [],
   "source": [
    "model=RandomForestRegressor(n_jobs=-1)\n",
    "\n",
    "X = df.drop(columns='units_sold', axis=1)\n",
    "y = df['units_sold']\n",
    "\n",
    "X_train, X_test, y_train, y_test = train_test_split(X,\n",
    "                                                  y,\n",
    "                                                  test_size=0.2,\n",
    "                                                  random_state=42)\n",
    "\n"
   ]
  },
  {
   "cell_type": "code",
   "execution_count": 36,
   "id": "171a1852",
   "metadata": {
    "execution": {
     "iopub.execute_input": "2025-05-23T01:34:06.529199Z",
     "iopub.status.busy": "2025-05-23T01:34:06.528548Z",
     "iopub.status.idle": "2025-05-23T01:35:26.190507Z",
     "shell.execute_reply": "2025-05-23T01:35:26.189461Z"
    },
    "papermill": {
     "duration": 79.696387,
     "end_time": "2025-05-23T01:35:26.208482",
     "exception": false,
     "start_time": "2025-05-23T01:34:06.512095",
     "status": "completed"
    },
    "tags": []
   },
   "outputs": [
    {
     "data": {
      "text/html": [
       "<style>#sk-container-id-2 {color: black;background-color: white;}#sk-container-id-2 pre{padding: 0;}#sk-container-id-2 div.sk-toggleable {background-color: white;}#sk-container-id-2 label.sk-toggleable__label {cursor: pointer;display: block;width: 100%;margin-bottom: 0;padding: 0.3em;box-sizing: border-box;text-align: center;}#sk-container-id-2 label.sk-toggleable__label-arrow:before {content: \"▸\";float: left;margin-right: 0.25em;color: #696969;}#sk-container-id-2 label.sk-toggleable__label-arrow:hover:before {color: black;}#sk-container-id-2 div.sk-estimator:hover label.sk-toggleable__label-arrow:before {color: black;}#sk-container-id-2 div.sk-toggleable__content {max-height: 0;max-width: 0;overflow: hidden;text-align: left;background-color: #f0f8ff;}#sk-container-id-2 div.sk-toggleable__content pre {margin: 0.2em;color: black;border-radius: 0.25em;background-color: #f0f8ff;}#sk-container-id-2 input.sk-toggleable__control:checked~div.sk-toggleable__content {max-height: 200px;max-width: 100%;overflow: auto;}#sk-container-id-2 input.sk-toggleable__control:checked~label.sk-toggleable__label-arrow:before {content: \"▾\";}#sk-container-id-2 div.sk-estimator input.sk-toggleable__control:checked~label.sk-toggleable__label {background-color: #d4ebff;}#sk-container-id-2 div.sk-label input.sk-toggleable__control:checked~label.sk-toggleable__label {background-color: #d4ebff;}#sk-container-id-2 input.sk-hidden--visually {border: 0;clip: rect(1px 1px 1px 1px);clip: rect(1px, 1px, 1px, 1px);height: 1px;margin: -1px;overflow: hidden;padding: 0;position: absolute;width: 1px;}#sk-container-id-2 div.sk-estimator {font-family: monospace;background-color: #f0f8ff;border: 1px dotted black;border-radius: 0.25em;box-sizing: border-box;margin-bottom: 0.5em;}#sk-container-id-2 div.sk-estimator:hover {background-color: #d4ebff;}#sk-container-id-2 div.sk-parallel-item::after {content: \"\";width: 100%;border-bottom: 1px solid gray;flex-grow: 1;}#sk-container-id-2 div.sk-label:hover label.sk-toggleable__label {background-color: #d4ebff;}#sk-container-id-2 div.sk-serial::before {content: \"\";position: absolute;border-left: 1px solid gray;box-sizing: border-box;top: 0;bottom: 0;left: 50%;z-index: 0;}#sk-container-id-2 div.sk-serial {display: flex;flex-direction: column;align-items: center;background-color: white;padding-right: 0.2em;padding-left: 0.2em;position: relative;}#sk-container-id-2 div.sk-item {position: relative;z-index: 1;}#sk-container-id-2 div.sk-parallel {display: flex;align-items: stretch;justify-content: center;background-color: white;position: relative;}#sk-container-id-2 div.sk-item::before, #sk-container-id-2 div.sk-parallel-item::before {content: \"\";position: absolute;border-left: 1px solid gray;box-sizing: border-box;top: 0;bottom: 0;left: 50%;z-index: -1;}#sk-container-id-2 div.sk-parallel-item {display: flex;flex-direction: column;z-index: 1;position: relative;background-color: white;}#sk-container-id-2 div.sk-parallel-item:first-child::after {align-self: flex-end;width: 50%;}#sk-container-id-2 div.sk-parallel-item:last-child::after {align-self: flex-start;width: 50%;}#sk-container-id-2 div.sk-parallel-item:only-child::after {width: 0;}#sk-container-id-2 div.sk-dashed-wrapped {border: 1px dashed gray;margin: 0 0.4em 0.5em 0.4em;box-sizing: border-box;padding-bottom: 0.4em;background-color: white;}#sk-container-id-2 div.sk-label label {font-family: monospace;font-weight: bold;display: inline-block;line-height: 1.2em;}#sk-container-id-2 div.sk-label-container {text-align: center;}#sk-container-id-2 div.sk-container {/* jupyter's `normalize.less` sets `[hidden] { display: none; }` but bootstrap.min.css set `[hidden] { display: none !important; }` so we also need the `!important` here to be able to override the default hidden behavior on the sphinx rendered scikit-learn.org. See: https://github.com/scikit-learn/scikit-learn/issues/21755 */display: inline-block !important;position: relative;}#sk-container-id-2 div.sk-text-repr-fallback {display: none;}</style><div id=\"sk-container-id-2\" class=\"sk-top-container\"><div class=\"sk-text-repr-fallback\"><pre>RandomForestRegressor(n_jobs=-1)</pre><b>In a Jupyter environment, please rerun this cell to show the HTML representation or trust the notebook. <br />On GitHub, the HTML representation is unable to render, please try loading this page with nbviewer.org.</b></div><div class=\"sk-container\" hidden><div class=\"sk-item\"><div class=\"sk-estimator sk-toggleable\"><input class=\"sk-toggleable__control sk-hidden--visually\" id=\"sk-estimator-id-2\" type=\"checkbox\" checked><label for=\"sk-estimator-id-2\" class=\"sk-toggleable__label sk-toggleable__label-arrow\">RandomForestRegressor</label><div class=\"sk-toggleable__content\"><pre>RandomForestRegressor(n_jobs=-1)</pre></div></div></div></div></div>"
      ],
      "text/plain": [
       "RandomForestRegressor(n_jobs=-1)"
      ]
     },
     "execution_count": 36,
     "metadata": {},
     "output_type": "execute_result"
    }
   ],
   "source": [
    "model.fit(X_train,y_train)"
   ]
  },
  {
   "cell_type": "code",
   "execution_count": 37,
   "id": "d2250dc1",
   "metadata": {
    "execution": {
     "iopub.execute_input": "2025-05-23T01:35:26.242192Z",
     "iopub.status.busy": "2025-05-23T01:35:26.241204Z",
     "iopub.status.idle": "2025-05-23T01:35:26.845217Z",
     "shell.execute_reply": "2025-05-23T01:35:26.844334Z"
    },
    "papermill": {
     "duration": 0.622366,
     "end_time": "2025-05-23T01:35:26.846695",
     "exception": false,
     "start_time": "2025-05-23T01:35:26.224329",
     "status": "completed"
    },
    "tags": []
   },
   "outputs": [
    {
     "data": {
      "text/plain": [
       "0.8270926658732662"
      ]
     },
     "execution_count": 37,
     "metadata": {},
     "output_type": "execute_result"
    }
   ],
   "source": [
    "model.score(X_test,y_test)"
   ]
  },
  {
   "cell_type": "code",
   "execution_count": 38,
   "id": "11aaa2e0",
   "metadata": {
    "execution": {
     "iopub.execute_input": "2025-05-23T01:35:26.881535Z",
     "iopub.status.busy": "2025-05-23T01:35:26.881006Z",
     "iopub.status.idle": "2025-05-23T01:35:27.495514Z",
     "shell.execute_reply": "2025-05-23T01:35:27.494459Z"
    },
    "papermill": {
     "duration": 0.634095,
     "end_time": "2025-05-23T01:35:27.497074",
     "exception": false,
     "start_time": "2025-05-23T01:35:26.862979",
     "status": "completed"
    },
    "tags": []
   },
   "outputs": [
    {
     "name": "stdout",
     "output_type": "stream",
     "text": [
      "RMSE: 17.776\n"
     ]
    }
   ],
   "source": [
    "\n",
    "from sklearn.metrics import mean_squared_error\n",
    "import numpy as np\n",
    "\n",
    "y_pred = model.predict(X_test)\n",
    "rmse = np.sqrt(mean_squared_error(y_test, y_pred))\n",
    "print(f\"RMSE: {rmse:.3f}\")\n"
   ]
  },
  {
   "cell_type": "code",
   "execution_count": 39,
   "id": "96b1b010",
   "metadata": {
    "execution": {
     "iopub.execute_input": "2025-05-23T01:35:27.531290Z",
     "iopub.status.busy": "2025-05-23T01:35:27.530971Z",
     "iopub.status.idle": "2025-05-23T01:35:27.819562Z",
     "shell.execute_reply": "2025-05-23T01:35:27.818577Z"
    },
    "papermill": {
     "duration": 0.30776,
     "end_time": "2025-05-23T01:35:27.821273",
     "exception": false,
     "start_time": "2025-05-23T01:35:27.513513",
     "status": "completed"
    },
    "tags": []
   },
   "outputs": [
    {
     "data": {
      "text/plain": [
       "[<matplotlib.lines.Line2D at 0x7e3b501e24d0>]"
      ]
     },
     "execution_count": 39,
     "metadata": {},
     "output_type": "execute_result"
    },
    {
     "data": {
      "image/png": "[encoded data removed]",
      "text/plain": [
       "<Figure size 640x480 with 1 Axes>"
      ]
     },
     "metadata": {},
     "output_type": "display_data"
    }
   ],
   "source": [
    "plt.scatter(y_pred,y_test)\n",
    "plt.plot(np.linspace(y_pred.min(),y_pred.max()),np.linspace(y_test.min(),y_test.max()),color=\"red\")"
   ]
  },
  {
   "cell_type": "code",
   "execution_count": 40,
   "id": "719ad542",
   "metadata": {
    "execution": {
     "iopub.execute_input": "2025-05-23T01:35:27.858710Z",
     "iopub.status.busy": "2025-05-23T01:35:27.857719Z",
     "iopub.status.idle": "2025-05-23T01:35:27.862803Z",
     "shell.execute_reply": "2025-05-23T01:35:27.862125Z"
    },
    "papermill": {
     "duration": 0.02469,
     "end_time": "2025-05-23T01:35:27.864133",
     "exception": false,
     "start_time": "2025-05-23T01:35:27.839443",
     "status": "completed"
    },
    "tags": []
   },
   "outputs": [],
   "source": [
    "from sklearn.model_selection import GridSearchCV\n",
    "\n",
    "param_grid={\n",
    "    \"n_estimators\":[10,20],\n",
    "    \"min_samples_split\":[2,3]\n",
    "\n",
    "}\n",
    "\n",
    "model=RandomForestRegressor(n_jobs=-1)\n",
    "\n",
    "grid_search=GridSearchCV(model,param_grid,verbose=2,cv=3)"
   ]
  },
  {
   "cell_type": "code",
   "execution_count": 41,
   "id": "2001b069",
   "metadata": {
    "execution": {
     "iopub.execute_input": "2025-05-23T01:35:27.900853Z",
     "iopub.status.busy": "2025-05-23T01:35:27.900517Z",
     "iopub.status.idle": "2025-05-23T01:37:17.816366Z",
     "shell.execute_reply": "2025-05-23T01:37:17.815332Z"
    },
    "papermill": {
     "duration": 109.953648,
     "end_time": "2025-05-23T01:37:17.836041",
     "exception": false,
     "start_time": "2025-05-23T01:35:27.882393",
     "status": "completed"
    },
    "tags": []
   },
   "outputs": [
    {
     "name": "stdout",
     "output_type": "stream",
     "text": [
      "Fitting 3 folds for each of 4 candidates, totalling 12 fits\n",
      "[CV] END ...............min_samples_split=2, n_estimators=10; total time=   5.4s\n",
      "[CV] END ...............min_samples_split=2, n_estimators=10; total time=   5.3s\n",
      "[CV] END ...............min_samples_split=2, n_estimators=10; total time=   6.0s\n",
      "[CV] END ...............min_samples_split=2, n_estimators=20; total time=   9.9s\n",
      "[CV] END ...............min_samples_split=2, n_estimators=20; total time=   9.9s\n",
      "[CV] END ...............min_samples_split=2, n_estimators=20; total time=  10.6s\n",
      "[CV] END ...............min_samples_split=3, n_estimators=10; total time=   5.2s\n",
      "[CV] END ...............min_samples_split=3, n_estimators=10; total time=   5.2s\n",
      "[CV] END ...............min_samples_split=3, n_estimators=10; total time=   5.2s\n",
      "[CV] END ...............min_samples_split=3, n_estimators=20; total time=   9.7s\n",
      "[CV] END ...............min_samples_split=3, n_estimators=20; total time=  10.7s\n",
      "[CV] END ...............min_samples_split=3, n_estimators=20; total time=  10.3s\n"
     ]
    },
    {
     "data": {
      "text/html": [
       "<style>#sk-container-id-3 {color: black;background-color: white;}#sk-container-id-3 pre{padding: 0;}#sk-container-id-3 div.sk-toggleable {background-color: white;}#sk-container-id-3 label.sk-toggleable__label {cursor: pointer;display: block;width: 100%;margin-bottom: 0;padding: 0.3em;box-sizing: border-box;text-align: center;}#sk-container-id-3 label.sk-toggleable__label-arrow:before {content: \"▸\";float: left;margin-right: 0.25em;color: #696969;}#sk-container-id-3 label.sk-toggleable__label-arrow:hover:before {color: black;}#sk-container-id-3 div.sk-estimator:hover label.sk-toggleable__label-arrow:before {color: black;}#sk-container-id-3 div.sk-toggleable__content {max-height: 0;max-width: 0;overflow: hidden;text-align: left;background-color: #f0f8ff;}#sk-container-id-3 div.sk-toggleable__content pre {margin: 0.2em;color: black;border-radius: 0.25em;background-color: #f0f8ff;}#sk-container-id-3 input.sk-toggleable__control:checked~div.sk-toggleable__content {max-height: 200px;max-width: 100%;overflow: auto;}#sk-container-id-3 input.sk-toggleable__control:checked~label.sk-toggleable__label-arrow:before {content: \"▾\";}#sk-container-id-3 div.sk-estimator input.sk-toggleable__control:checked~label.sk-toggleable__label {background-color: #d4ebff;}#sk-container-id-3 div.sk-label input.sk-toggleable__control:checked~label.sk-toggleable__label {background-color: #d4ebff;}#sk-container-id-3 input.sk-hidden--visually {border: 0;clip: rect(1px 1px 1px 1px);clip: rect(1px, 1px, 1px, 1px);height: 1px;margin: -1px;overflow: hidden;padding: 0;position: absolute;width: 1px;}#sk-container-id-3 div.sk-estimator {font-family: monospace;background-color: #f0f8ff;border: 1px dotted black;border-radius: 0.25em;box-sizing: border-box;margin-bottom: 0.5em;}#sk-container-id-3 div.sk-estimator:hover {background-color: #d4ebff;}#sk-container-id-3 div.sk-parallel-item::after {content: \"\";width: 100%;border-bottom: 1px solid gray;flex-grow: 1;}#sk-container-id-3 div.sk-label:hover label.sk-toggleable__label {background-color: #d4ebff;}#sk-container-id-3 div.sk-serial::before {content: \"\";position: absolute;border-left: 1px solid gray;box-sizing: border-box;top: 0;bottom: 0;left: 50%;z-index: 0;}#sk-container-id-3 div.sk-serial {display: flex;flex-direction: column;align-items: center;background-color: white;padding-right: 0.2em;padding-left: 0.2em;position: relative;}#sk-container-id-3 div.sk-item {position: relative;z-index: 1;}#sk-container-id-3 div.sk-parallel {display: flex;align-items: stretch;justify-content: center;background-color: white;position: relative;}#sk-container-id-3 div.sk-item::before, #sk-container-id-3 div.sk-parallel-item::before {content: \"\";position: absolute;border-left: 1px solid gray;box-sizing: border-box;top: 0;bottom: 0;left: 50%;z-index: -1;}#sk-container-id-3 div.sk-parallel-item {display: flex;flex-direction: column;z-index: 1;position: relative;background-color: white;}#sk-container-id-3 div.sk-parallel-item:first-child::after {align-self: flex-end;width: 50%;}#sk-container-id-3 div.sk-parallel-item:last-child::after {align-self: flex-start;width: 50%;}#sk-container-id-3 div.sk-parallel-item:only-child::after {width: 0;}#sk-container-id-3 div.sk-dashed-wrapped {border: 1px dashed gray;margin: 0 0.4em 0.5em 0.4em;box-sizing: border-box;padding-bottom: 0.4em;background-color: white;}#sk-container-id-3 div.sk-label label {font-family: monospace;font-weight: bold;display: inline-block;line-height: 1.2em;}#sk-container-id-3 div.sk-label-container {text-align: center;}#sk-container-id-3 div.sk-container {/* jupyter's `normalize.less` sets `[hidden] { display: none; }` but bootstrap.min.css set `[hidden] { display: none !important; }` so we also need the `!important` here to be able to override the default hidden behavior on the sphinx rendered scikit-learn.org. See: https://github.com/scikit-learn/scikit-learn/issues/21755 */display: inline-block !important;position: relative;}#sk-container-id-3 div.sk-text-repr-fallback {display: none;}</style><div id=\"sk-container-id-3\" class=\"sk-top-container\"><div class=\"sk-text-repr-fallback\"><pre>GridSearchCV(cv=3, estimator=RandomForestRegressor(n_jobs=-1),\n",
       "             param_grid={&#x27;min_samples_split&#x27;: [2, 3], &#x27;n_estimators&#x27;: [10, 20]},\n",
       "             verbose=2)</pre><b>In a Jupyter environment, please rerun this cell to show the HTML representation or trust the notebook. <br />On GitHub, the HTML representation is unable to render, please try loading this page with nbviewer.org.</b></div><div class=\"sk-container\" hidden><div class=\"sk-item sk-dashed-wrapped\"><div class=\"sk-label-container\"><div class=\"sk-label sk-toggleable\"><input class=\"sk-toggleable__control sk-hidden--visually\" id=\"sk-estimator-id-3\" type=\"checkbox\" ><label for=\"sk-estimator-id-3\" class=\"sk-toggleable__label sk-toggleable__label-arrow\">GridSearchCV</label><div class=\"sk-toggleable__content\"><pre>GridSearchCV(cv=3, estimator=RandomForestRegressor(n_jobs=-1),\n",
       "             param_grid={&#x27;min_samples_split&#x27;: [2, 3], &#x27;n_estimators&#x27;: [10, 20]},\n",
       "             verbose=2)</pre></div></div></div><div class=\"sk-parallel\"><div class=\"sk-parallel-item\"><div class=\"sk-item\"><div class=\"sk-label-container\"><div class=\"sk-label sk-toggleable\"><input class=\"sk-toggleable__control sk-hidden--visually\" id=\"sk-estimator-id-4\" type=\"checkbox\" ><label for=\"sk-estimator-id-4\" class=\"sk-toggleable__label sk-toggleable__label-arrow\">estimator: RandomForestRegressor</label><div class=\"sk-toggleable__content\"><pre>RandomForestRegressor(n_jobs=-1)</pre></div></div></div><div class=\"sk-serial\"><div class=\"sk-item\"><div class=\"sk-estimator sk-toggleable\"><input class=\"sk-toggleable__control sk-hidden--visually\" id=\"sk-estimator-id-5\" type=\"checkbox\" ><label for=\"sk-estimator-id-5\" class=\"sk-toggleable__label sk-toggleable__label-arrow\">RandomForestRegressor</label><div class=\"sk-toggleable__content\"><pre>RandomForestRegressor(n_jobs=-1)</pre></div></div></div></div></div></div></div></div></div></div>"
      ],
      "text/plain": [
       "GridSearchCV(cv=3, estimator=RandomForestRegressor(n_jobs=-1),\n",
       "             param_grid={'min_samples_split': [2, 3], 'n_estimators': [10, 20]},\n",
       "             verbose=2)"
      ]
     },
     "execution_count": 41,
     "metadata": {},
     "output_type": "execute_result"
    }
   ],
   "source": [
    "grid_search.fit(X_train,y_train)"
   ]
  },
  {
   "cell_type": "code",
   "execution_count": 42,
   "id": "1ab4ac7e",
   "metadata": {
    "execution": {
     "iopub.execute_input": "2025-05-23T01:37:17.874306Z",
     "iopub.status.busy": "2025-05-23T01:37:17.873978Z",
     "iopub.status.idle": "2025-05-23T01:37:17.878382Z",
     "shell.execute_reply": "2025-05-23T01:37:17.877439Z"
    },
    "papermill": {
     "duration": 0.025845,
     "end_time": "2025-05-23T01:37:17.880226",
     "exception": false,
     "start_time": "2025-05-23T01:37:17.854381",
     "status": "completed"
    },
    "tags": []
   },
   "outputs": [],
   "source": [
    "best_model=grid_search.best_estimator_"
   ]
  },
  {
   "cell_type": "code",
   "execution_count": 43,
   "id": "4d7bd518",
   "metadata": {
    "execution": {
     "iopub.execute_input": "2025-05-23T01:37:17.919398Z",
     "iopub.status.busy": "2025-05-23T01:37:17.919079Z",
     "iopub.status.idle": "2025-05-23T01:37:17.924971Z",
     "shell.execute_reply": "2025-05-23T01:37:17.924001Z"
    },
    "papermill": {
     "duration": 0.026865,
     "end_time": "2025-05-23T01:37:17.926381",
     "exception": false,
     "start_time": "2025-05-23T01:37:17.899516",
     "status": "completed"
    },
    "tags": []
   },
   "outputs": [
    {
     "data": {
      "text/plain": [
       "{'min_samples_split': 3, 'n_estimators': 20}"
      ]
     },
     "execution_count": 43,
     "metadata": {},
     "output_type": "execute_result"
    }
   ],
   "source": [
    "grid_search.best_params_"
   ]
  },
  {
   "cell_type": "code",
   "execution_count": 44,
   "id": "d9be0316",
   "metadata": {
    "execution": {
     "iopub.execute_input": "2025-05-23T01:37:17.965106Z",
     "iopub.status.busy": "2025-05-23T01:37:17.964782Z",
     "iopub.status.idle": "2025-05-23T01:37:18.187331Z",
     "shell.execute_reply": "2025-05-23T01:37:18.186363Z"
    },
    "papermill": {
     "duration": 0.244046,
     "end_time": "2025-05-23T01:37:18.188958",
     "exception": false,
     "start_time": "2025-05-23T01:37:17.944912",
     "status": "completed"
    },
    "tags": []
   },
   "outputs": [
    {
     "data": {
      "text/plain": [
       "0.8203502145890683"
      ]
     },
     "execution_count": 44,
     "metadata": {},
     "output_type": "execute_result"
    }
   ],
   "source": [
    "best_model.score(X_test,y_test)"
   ]
  },
  {
   "cell_type": "code",
   "execution_count": null,
   "id": "ac88a2b3",
   "metadata": {
    "papermill": {
     "duration": 0.018613,
     "end_time": "2025-05-23T01:37:18.226428",
     "exception": false,
     "start_time": "2025-05-23T01:37:18.207815",
     "status": "completed"
    },
    "tags": []
   },
   "outputs": [],
   "source": []
  },
  {
   "cell_type": "code",
   "execution_count": null,
   "id": "88c7c5fd",
   "metadata": {
    "papermill": {
     "duration": 0.018925,
     "end_time": "2025-05-23T01:37:18.264242",
     "exception": false,
     "start_time": "2025-05-23T01:37:18.245317",
     "status": "completed"
    },
    "tags": []
   },
   "outputs": [],
   "source": []
  },
  {
   "cell_type": "code",
   "execution_count": null,
   "id": "ac4243f8",
   "metadata": {
    "papermill": {
     "duration": 0.020389,
     "end_time": "2025-05-23T01:37:18.303796",
     "exception": false,
     "start_time": "2025-05-23T01:37:18.283407",
     "status": "completed"
    },
    "tags": []
   },
   "outputs": [],
   "source": []
  },
  {
   "cell_type": "code",
   "execution_count": 45,
   "id": "fd752763",
   "metadata": {
    "execution": {
     "iopub.execute_input": "2025-05-23T01:37:18.343583Z",
     "iopub.status.busy": "2025-05-23T01:37:18.343266Z",
     "iopub.status.idle": "2025-05-23T01:37:18.347582Z",
     "shell.execute_reply": "2025-05-23T01:37:18.346665Z"
    },
    "papermill": {
     "duration": 0.026469,
     "end_time": "2025-05-23T01:37:18.349103",
     "exception": false,
     "start_time": "2025-05-23T01:37:18.322634",
     "status": "completed"
    },
    "tags": []
   },
   "outputs": [],
   "source": [
    "# models = {\n",
    "#     'LR': LinearRegression(),\n",
    "#     'DT': DecisionTreeRegressor(),\n",
    "#     'FR': RandomForestRegressor(),\n",
    "#     'XGB': XGBRegressor(eta=0.6, eval_metric=\"rmse\"),\n",
    "#     'GBR': GradientBoostingRegressor(learning_rate=0.001),\n",
    "# }\n",
    "# rmse_scores = dict()"
   ]
  },
  {
   "cell_type": "code",
   "execution_count": 46,
   "id": "7ba4f790",
   "metadata": {
    "execution": {
     "iopub.execute_input": "2025-05-23T01:37:18.389047Z",
     "iopub.status.busy": "2025-05-23T01:37:18.388727Z",
     "iopub.status.idle": "2025-05-23T01:37:18.392836Z",
     "shell.execute_reply": "2025-05-23T01:37:18.392008Z"
    },
    "papermill": {
     "duration": 0.025662,
     "end_time": "2025-05-23T01:37:18.394276",
     "exception": false,
     "start_time": "2025-05-23T01:37:18.368614",
     "status": "completed"
    },
    "tags": []
   },
   "outputs": [],
   "source": [
    "# for model in models.items():\n",
    "#     model[1].fit(X_train ,y_train)\n",
    "#     y_pred = model[1].predict(X_val) \n",
    "#     rmse = np.sqrt(mean_squared_error(y_val, y_pred))\n",
    "#     rmse_scores[model[0]] = round(rmse, 2)"
   ]
  }
 ],
 "metadata": {
  "kaggle": {
   "accelerator": "none",
   "dataSources": [
    {
     "datasetId": 768794,
     "sourceId": 1325325,
     "sourceType": "datasetVersion"
    }
   ],
   "dockerImageVersionId": 31040,
   "isGpuEnabled": false,
   "isInternetEnabled": true,
   "language": "python",
   "sourceType": "notebook"
  },
  "kernelspec": {
   "display_name": "Python 3",
   "language": "python",
   "name": "python3"
  },
  "language_info": {
   "codemirror_mode": {
    "name": "ipython",
    "version": 3
   },
   "file_extension": ".py",
   "mimetype": "text/x-python",
   "name": "python",
   "nbconvert_exporter": "python",
   "pygments_lexer": "ipython3",
   "version": "3.11.11"
  },
  "papermill": {
   "default_parameters": {},
   "duration": 235.394969,
   "end_time": "2025-05-23T01:37:19.536811",
   "environment_variables": {},
   "exception": null,
   "input_path": "__notebook__.ipynb",
   "output_path": "__notebook__.ipynb",
   "parameters": {},
   "start_time": "2025-05-23T01:33:24.141842",
   "version": "2.6.0"
  }
 },
 "nbformat": 4,
 "nbformat_minor": 5
}
